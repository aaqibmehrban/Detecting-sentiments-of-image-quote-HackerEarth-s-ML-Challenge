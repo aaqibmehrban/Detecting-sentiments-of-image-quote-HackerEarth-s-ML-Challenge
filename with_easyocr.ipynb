{
 "cells": [
  {
   "cell_type": "markdown",
   "metadata": {
    "colab_type": "text",
    "id": "29zzT_Y84BIl"
   },
   "source": [
    "# Machine Learning challenge: Love is love"
   ]
  },
  {
   "cell_type": "markdown",
   "metadata": {
    "colab_type": "text",
    "id": "IF-hf3ev4BIm"
   },
   "source": [
    "## Approach\n",
    "> * Used glob to extract all the paths for the images\n",
    "> * Used easyocr library to read the text from the .jpg files.\n",
    "> * Removed **\\n** and **contraction** then applied some spelling correction and created Sentiment scores using `SentimentIntensityAnalyzer` & `TextBlob Sentiment polarity score`\n",
    "> * Removed Non alphabets, Stopwords and applied lemmatization\n",
    "> * Created TFIDF vectors for the text\n",
    "> * Created vector represenation for each comment\n",
    "> * Stacked all these features i.e. `Sentiment scores`, `TFIDF Vectors`, `Comment Vectors` And used these as features to cluster the comments in 3 groups using `Kmeans`.\n",
    "> * Further by inspection detected the comment types in the cluster and mapped `Random`, `Negative`, `Positive` accordingly.\n",
    "\n",
    "* *`NOTE` every time we run code we need to inspect the cluster label and mapping string*"
   ]
  },
  {
   "cell_type": "code",
   "execution_count": null,
   "metadata": {
    "colab": {
     "base_uri": "https://localhost:8080/",
     "height": 71
    },
    "colab_type": "code",
    "id": "jsKu69EA4BIn",
    "outputId": "68c054e8-5cef-47b4-a1eb-0111942e26bf"
   },
   "outputs": [
    {
     "name": "stderr",
     "output_type": "stream",
     "text": [
      "/usr/local/lib/python3.6/dist-packages/statsmodels/tools/_testing.py:19: FutureWarning: pandas.util.testing is deprecated. Use the functions in the public API at pandas.testing instead.\n",
      "  import pandas.util.testing as tm\n"
     ]
    }
   ],
   "source": [
    "import numpy as np\n",
    "import pandas as pd\n",
    "import seaborn as sns\n",
    "import matplotlib.pyplot as plt\n",
    "%matplotlib inline\n",
    "sns.set_style('darkgrid')"
   ]
  },
  {
   "cell_type": "code",
   "execution_count": null,
   "metadata": {
    "colab": {},
    "colab_type": "code",
    "id": "NVC47oio4BIv"
   },
   "outputs": [],
   "source": [
    "import warnings\n",
    "warnings.filterwarnings(\"ignore\")"
   ]
  },
  {
   "cell_type": "code",
   "execution_count": null,
   "metadata": {
    "colab": {},
    "colab_type": "code",
    "id": "Il-6Z4Sm4BIy"
   },
   "outputs": [],
   "source": [
    "pd.set_option(\"display.max_colwidth\", 200) \n",
    "warnings.filterwarnings(\"ignore\", category=DeprecationWarning) "
   ]
  },
  {
   "cell_type": "code",
   "execution_count": null,
   "metadata": {
    "colab": {
     "base_uri": "https://localhost:8080/",
     "height": 360
    },
    "colab_type": "code",
    "id": "uSQfrj5k5OS3",
    "outputId": "0b28f7da-d096-457b-9740-250837ef95ed"
   },
   "outputs": [
    {
     "name": "stdout",
     "output_type": "stream",
     "text": [
      "Requirement already satisfied: easyocr in /usr/local/lib/python3.6/dist-packages (1.1.3)\n",
      "Requirement already satisfied: scipy in /usr/local/lib/python3.6/dist-packages (from easyocr) (1.4.1)\n",
      "Requirement already satisfied: torch in /usr/local/lib/python3.6/dist-packages (from easyocr) (1.5.1+cu101)\n",
      "Requirement already satisfied: torchvision in /usr/local/lib/python3.6/dist-packages (from easyocr) (0.6.1+cu101)\n",
      "Requirement already satisfied: scikit-image in /usr/local/lib/python3.6/dist-packages (from easyocr) (0.16.2)\n",
      "Requirement already satisfied: numpy in /usr/local/lib/python3.6/dist-packages (from easyocr) (1.18.5)\n",
      "Requirement already satisfied: opencv-python in /usr/local/lib/python3.6/dist-packages (from easyocr) (4.1.2.30)\n",
      "Requirement already satisfied: Pillow<7.0 in /usr/local/lib/python3.6/dist-packages (from easyocr) (6.2.2)\n",
      "Requirement already satisfied: future in /usr/local/lib/python3.6/dist-packages (from torch->easyocr) (0.16.0)\n",
      "Requirement already satisfied: imageio>=2.3.0 in /usr/local/lib/python3.6/dist-packages (from scikit-image->easyocr) (2.4.1)\n",
      "Requirement already satisfied: matplotlib!=3.0.0,>=2.0.0 in /usr/local/lib/python3.6/dist-packages (from scikit-image->easyocr) (3.2.2)\n",
      "Requirement already satisfied: networkx>=2.0 in /usr/local/lib/python3.6/dist-packages (from scikit-image->easyocr) (2.4)\n",
      "Requirement already satisfied: PyWavelets>=0.4.0 in /usr/local/lib/python3.6/dist-packages (from scikit-image->easyocr) (1.1.1)\n",
      "Requirement already satisfied: python-dateutil>=2.1 in /usr/local/lib/python3.6/dist-packages (from matplotlib!=3.0.0,>=2.0.0->scikit-image->easyocr) (2.8.1)\n",
      "Requirement already satisfied: pyparsing!=2.0.4,!=2.1.2,!=2.1.6,>=2.0.1 in /usr/local/lib/python3.6/dist-packages (from matplotlib!=3.0.0,>=2.0.0->scikit-image->easyocr) (2.4.7)\n",
      "Requirement already satisfied: kiwisolver>=1.0.1 in /usr/local/lib/python3.6/dist-packages (from matplotlib!=3.0.0,>=2.0.0->scikit-image->easyocr) (1.2.0)\n",
      "Requirement already satisfied: cycler>=0.10 in /usr/local/lib/python3.6/dist-packages (from matplotlib!=3.0.0,>=2.0.0->scikit-image->easyocr) (0.10.0)\n",
      "Requirement already satisfied: decorator>=4.3.0 in /usr/local/lib/python3.6/dist-packages (from networkx>=2.0->scikit-image->easyocr) (4.4.2)\n",
      "Requirement already satisfied: six>=1.5 in /usr/local/lib/python3.6/dist-packages (from python-dateutil>=2.1->matplotlib!=3.0.0,>=2.0.0->scikit-image->easyocr) (1.12.0)\n"
     ]
    }
   ],
   "source": [
    "# !pip install easyocr"
   ]
  },
  {
   "cell_type": "code",
   "execution_count": null,
   "metadata": {
    "colab": {},
    "colab_type": "code",
    "id": "5zSnQfkv4BI1"
   },
   "outputs": [],
   "source": [
    "import glob"
   ]
  },
  {
   "cell_type": "code",
   "execution_count": null,
   "metadata": {
    "colab": {
     "base_uri": "https://localhost:8080/",
     "height": 122
    },
    "colab_type": "code",
    "id": "F8jk8BbW5oU2",
    "outputId": "2bf8bbeb-97be-4ddc-fcaf-ee3511979735"
   },
   "outputs": [
    {
     "name": "stdout",
     "output_type": "stream",
     "text": [
      "Go to this URL in a browser: https://accounts.google.com/o/oauth2/auth?client_id=947318989803-6bn6qk8qdgf4n4g3pfee6491hc0brc4i.apps.googleusercontent.com&redirect_uri=urn%3aietf%3awg%3aoauth%3a2.0%3aoob&response_type=code&scope=email%20https%3a%2f%2fwww.googleapis.com%2fauth%2fdocs.test%20https%3a%2f%2fwww.googleapis.com%2fauth%2fdrive%20https%3a%2f%2fwww.googleapis.com%2fauth%2fdrive.photos.readonly%20https%3a%2f%2fwww.googleapis.com%2fauth%2fpeopleapi.readonly\n",
      "\n",
      "Enter your authorization code:\n",
      "··········\n",
      "Mounted at /content/drive\n"
     ]
    }
   ],
   "source": [
    "from google.colab import drive\n",
    "drive.mount('/content/drive')"
   ]
  },
  {
   "cell_type": "code",
   "execution_count": null,
   "metadata": {
    "colab": {},
    "colab_type": "code",
    "id": "g8D1e9TY4BI-"
   },
   "outputs": [],
   "source": [
    "paths=glob.glob('/content/drive/My Drive/Love is Love/Dataset/*')"
   ]
  },
  {
   "cell_type": "code",
   "execution_count": null,
   "metadata": {
    "colab": {
     "base_uri": "https://localhost:8080/",
     "height": 1000
    },
    "colab_type": "code",
    "id": "wbVBp7RW4BJB",
    "outputId": "cd07754c-d3ca-4a43-9109-81df05a3cb3a",
    "scrolled": true
   },
   "outputs": [
    {
     "data": {
      "text/plain": [
       "['/content/drive/My Drive/Love is Love/Dataset/Test3118.jpg',\n",
       " '/content/drive/My Drive/Love is Love/Dataset/Test1902.jpg',\n",
       " '/content/drive/My Drive/Love is Love/Dataset/Test1992.jpg',\n",
       " '/content/drive/My Drive/Love is Love/Dataset/Test3130.jpg',\n",
       " '/content/drive/My Drive/Love is Love/Dataset/Test3863.jpg',\n",
       " '/content/drive/My Drive/Love is Love/Dataset/Test3625.jpg',\n",
       " '/content/drive/My Drive/Love is Love/Dataset/Test2411.jpg',\n",
       " '/content/drive/My Drive/Love is Love/Dataset/Test2068.jpg',\n",
       " '/content/drive/My Drive/Love is Love/Dataset/Test2977.jpg',\n",
       " '/content/drive/My Drive/Love is Love/Dataset/Test2616.jpg',\n",
       " '/content/drive/My Drive/Love is Love/Dataset/Test1785.jpg',\n",
       " '/content/drive/My Drive/Love is Love/Dataset/Test1634.jpg',\n",
       " '/content/drive/My Drive/Love is Love/Dataset/Test3525.jpg',\n",
       " '/content/drive/My Drive/Love is Love/Dataset/Test3893.jpg',\n",
       " '/content/drive/My Drive/Love is Love/Dataset/Test1872.jpg',\n",
       " '/content/drive/My Drive/Love is Love/Dataset/Test2007.jpg',\n",
       " '/content/drive/My Drive/Love is Love/Dataset/Test1788.jpg',\n",
       " '/content/drive/My Drive/Love is Love/Dataset/Test2870.jpg',\n",
       " '/content/drive/My Drive/Love is Love/Dataset/Test1161.jpg',\n",
       " '/content/drive/My Drive/Love is Love/Dataset/Test2280.jpg',\n",
       " '/content/drive/My Drive/Love is Love/Dataset/Test1644.jpg',\n",
       " '/content/drive/My Drive/Love is Love/Dataset/Test3566.jpg',\n",
       " '/content/drive/My Drive/Love is Love/Dataset/Test1001.jpg',\n",
       " '/content/drive/My Drive/Love is Love/Dataset/Test3024.jpg',\n",
       " '/content/drive/My Drive/Love is Love/Dataset/Test3360.jpg',\n",
       " '/content/drive/My Drive/Love is Love/Dataset/Test3177.jpg',\n",
       " '/content/drive/My Drive/Love is Love/Dataset/Test1818.jpg',\n",
       " '/content/drive/My Drive/Love is Love/Dataset/Test1229.jpg',\n",
       " '/content/drive/My Drive/Love is Love/Dataset/Test3294.jpg',\n",
       " '/content/drive/My Drive/Love is Love/Dataset/Test3512.jpg',\n",
       " '/content/drive/My Drive/Love is Love/Dataset/Test2424.jpg',\n",
       " '/content/drive/My Drive/Love is Love/Dataset/Test1279.jpg',\n",
       " '/content/drive/My Drive/Love is Love/Dataset/Test2309.jpg',\n",
       " '/content/drive/My Drive/Love is Love/Dataset/Test2792.jpg',\n",
       " '/content/drive/My Drive/Love is Love/Dataset/Test1743.jpg',\n",
       " '/content/drive/My Drive/Love is Love/Dataset/Test1717.jpg',\n",
       " '/content/drive/My Drive/Love is Love/Dataset/Test2049.jpg',\n",
       " '/content/drive/My Drive/Love is Love/Dataset/Test3706.jpg',\n",
       " '/content/drive/My Drive/Love is Love/Dataset/Test3750.jpg',\n",
       " '/content/drive/My Drive/Love is Love/Dataset/Test1359.jpg',\n",
       " '/content/drive/My Drive/Love is Love/Dataset/Test1122.jpg',\n",
       " '/content/drive/My Drive/Love is Love/Dataset/Test1885.jpg',\n",
       " '/content/drive/My Drive/Love is Love/Dataset/Test3265.jpg',\n",
       " '/content/drive/My Drive/Love is Love/Dataset/Test2791.jpg',\n",
       " '/content/drive/My Drive/Love is Love/Dataset/Test1856.jpg',\n",
       " '/content/drive/My Drive/Love is Love/Dataset/Test1803.jpg',\n",
       " '/content/drive/My Drive/Love is Love/Dataset/Test2114.jpg',\n",
       " '/content/drive/My Drive/Love is Love/Dataset/Test1620.jpg',\n",
       " '/content/drive/My Drive/Love is Love/Dataset/Test2743.jpg',\n",
       " '/content/drive/My Drive/Love is Love/Dataset/Test1353.jpg',\n",
       " '/content/drive/My Drive/Love is Love/Dataset/Test2648.jpg',\n",
       " '/content/drive/My Drive/Love is Love/Dataset/Test1071.jpg',\n",
       " '/content/drive/My Drive/Love is Love/Dataset/Test1884.jpg',\n",
       " '/content/drive/My Drive/Love is Love/Dataset/Test3789.jpg',\n",
       " '/content/drive/My Drive/Love is Love/Dataset/Test3277.jpg',\n",
       " '/content/drive/My Drive/Love is Love/Dataset/Test2590.jpg',\n",
       " '/content/drive/My Drive/Love is Love/Dataset/Test3798.jpg',\n",
       " '/content/drive/My Drive/Love is Love/Dataset/Test1889.jpg',\n",
       " '/content/drive/My Drive/Love is Love/Dataset/Test2235.jpg',\n",
       " '/content/drive/My Drive/Love is Love/Dataset/Test1923.jpg',\n",
       " '/content/drive/My Drive/Love is Love/Dataset/Test3159.jpg',\n",
       " '/content/drive/My Drive/Love is Love/Dataset/Test2371.jpg',\n",
       " '/content/drive/My Drive/Love is Love/Dataset/Test2962.jpg',\n",
       " '/content/drive/My Drive/Love is Love/Dataset/Test3864.jpg',\n",
       " '/content/drive/My Drive/Love is Love/Dataset/Test1199.jpg',\n",
       " '/content/drive/My Drive/Love is Love/Dataset/Test2455.jpg',\n",
       " '/content/drive/My Drive/Love is Love/Dataset/Test2209.jpg',\n",
       " '/content/drive/My Drive/Love is Love/Dataset/Test1776.jpg',\n",
       " '/content/drive/My Drive/Love is Love/Dataset/Test3030.jpg',\n",
       " '/content/drive/My Drive/Love is Love/Dataset/Test1767.jpg',\n",
       " '/content/drive/My Drive/Love is Love/Dataset/Test1934.jpg',\n",
       " '/content/drive/My Drive/Love is Love/Dataset/Test1290.jpg',\n",
       " '/content/drive/My Drive/Love is Love/Dataset/Test1240.jpg',\n",
       " '/content/drive/My Drive/Love is Love/Dataset/Test3827.jpg',\n",
       " '/content/drive/My Drive/Love is Love/Dataset/Test1012.jpg',\n",
       " '/content/drive/My Drive/Love is Love/Dataset/Test3985.jpg',\n",
       " '/content/drive/My Drive/Love is Love/Dataset/Test1271.jpg',\n",
       " '/content/drive/My Drive/Love is Love/Dataset/Test1954.jpg',\n",
       " '/content/drive/My Drive/Love is Love/Dataset/Test3246.jpg',\n",
       " '/content/drive/My Drive/Love is Love/Dataset/Test1022.jpg',\n",
       " '/content/drive/My Drive/Love is Love/Dataset/Test2434.jpg',\n",
       " '/content/drive/My Drive/Love is Love/Dataset/Test1837.jpg',\n",
       " '/content/drive/My Drive/Love is Love/Dataset/Test3975.jpg',\n",
       " '/content/drive/My Drive/Love is Love/Dataset/Test3934.jpg',\n",
       " '/content/drive/My Drive/Love is Love/Dataset/Test3749.jpg',\n",
       " '/content/drive/My Drive/Love is Love/Dataset/Test2650.jpg',\n",
       " '/content/drive/My Drive/Love is Love/Dataset/Test1724.jpg',\n",
       " '/content/drive/My Drive/Love is Love/Dataset/Test1615.jpg',\n",
       " '/content/drive/My Drive/Love is Love/Dataset/Test2959.jpg',\n",
       " '/content/drive/My Drive/Love is Love/Dataset/Test353.jpg',\n",
       " '/content/drive/My Drive/Love is Love/Dataset/Test490.jpg',\n",
       " '/content/drive/My Drive/Love is Love/Dataset/Test516.jpg',\n",
       " '/content/drive/My Drive/Love is Love/Dataset/Test581.jpg',\n",
       " '/content/drive/My Drive/Love is Love/Dataset/Test937.jpg',\n",
       " '/content/drive/My Drive/Love is Love/Dataset/Test677.jpg',\n",
       " '/content/drive/My Drive/Love is Love/Dataset/Test835.jpg',\n",
       " '/content/drive/My Drive/Love is Love/Dataset/Test660.jpg',\n",
       " '/content/drive/My Drive/Love is Love/Dataset/Test523.jpg',\n",
       " '/content/drive/My Drive/Love is Love/Dataset/Test526.jpg',\n",
       " '/content/drive/My Drive/Love is Love/Dataset/Test614.jpg',\n",
       " '/content/drive/My Drive/Love is Love/Dataset/Test837.jpg',\n",
       " '/content/drive/My Drive/Love is Love/Dataset/Test482.jpg',\n",
       " '/content/drive/My Drive/Love is Love/Dataset/Test957.jpg',\n",
       " '/content/drive/My Drive/Love is Love/Dataset/Test761.jpg',\n",
       " '/content/drive/My Drive/Love is Love/Dataset/Test859.jpg',\n",
       " '/content/drive/My Drive/Love is Love/Dataset/Test812.jpg',\n",
       " '/content/drive/My Drive/Love is Love/Dataset/Test803.jpg',\n",
       " '/content/drive/My Drive/Love is Love/Dataset/Test890.jpg',\n",
       " '/content/drive/My Drive/Love is Love/Dataset/Test929.jpg',\n",
       " '/content/drive/My Drive/Love is Love/Dataset/Test824.jpg',\n",
       " '/content/drive/My Drive/Love is Love/Dataset/Test751.jpg',\n",
       " '/content/drive/My Drive/Love is Love/Dataset/Test545.jpg',\n",
       " '/content/drive/My Drive/Love is Love/Dataset/Test644.jpg',\n",
       " '/content/drive/My Drive/Love is Love/Dataset/Test400.jpg',\n",
       " '/content/drive/My Drive/Love is Love/Dataset/Test449.jpg',\n",
       " '/content/drive/My Drive/Love is Love/Dataset/Test715.jpg',\n",
       " '/content/drive/My Drive/Love is Love/Dataset/Test372.jpg',\n",
       " '/content/drive/My Drive/Love is Love/Dataset/Test941.jpg',\n",
       " '/content/drive/My Drive/Love is Love/Dataset/Test843.jpg',\n",
       " '/content/drive/My Drive/Love is Love/Dataset/Test587.jpg',\n",
       " '/content/drive/My Drive/Love is Love/Dataset/Test834.jpg',\n",
       " '/content/drive/My Drive/Love is Love/Dataset/Test624.jpg',\n",
       " '/content/drive/My Drive/Love is Love/Dataset/Test912.jpg',\n",
       " '/content/drive/My Drive/Love is Love/Dataset/Test789.jpg',\n",
       " '/content/drive/My Drive/Love is Love/Dataset/Test498.jpg',\n",
       " '/content/drive/My Drive/Love is Love/Dataset/Test397.jpg',\n",
       " '/content/drive/My Drive/Love is Love/Dataset/Test422.jpg',\n",
       " '/content/drive/My Drive/Love is Love/Dataset/Test668.jpg',\n",
       " '/content/drive/My Drive/Love is Love/Dataset/Test861.jpg',\n",
       " '/content/drive/My Drive/Love is Love/Dataset/Test661.jpg',\n",
       " '/content/drive/My Drive/Love is Love/Dataset/Test942.jpg',\n",
       " '/content/drive/My Drive/Love is Love/Dataset/Test378.jpg',\n",
       " '/content/drive/My Drive/Love is Love/Dataset/Test579.jpg',\n",
       " '/content/drive/My Drive/Love is Love/Dataset/Test884.jpg',\n",
       " '/content/drive/My Drive/Love is Love/Dataset/Test757.jpg',\n",
       " '/content/drive/My Drive/Love is Love/Dataset/Test440.jpg',\n",
       " '/content/drive/My Drive/Love is Love/Dataset/Test979.jpg',\n",
       " '/content/drive/My Drive/Love is Love/Dataset/Test606.jpg',\n",
       " '/content/drive/My Drive/Love is Love/Dataset/Test374.jpg',\n",
       " '/content/drive/My Drive/Love is Love/Dataset/Test779.jpg',\n",
       " '/content/drive/My Drive/Love is Love/Dataset/Test833.jpg',\n",
       " '/content/drive/My Drive/Love is Love/Dataset/Test665.jpg',\n",
       " '/content/drive/My Drive/Love is Love/Dataset/Test527.jpg',\n",
       " '/content/drive/My Drive/Love is Love/Dataset/Test945.jpg',\n",
       " '/content/drive/My Drive/Love is Love/Dataset/Test612.jpg',\n",
       " '/content/drive/My Drive/Love is Love/Dataset/Test360.jpg',\n",
       " '/content/drive/My Drive/Love is Love/Dataset/Test536.jpg',\n",
       " '/content/drive/My Drive/Love is Love/Dataset/Test993.jpg',\n",
       " '/content/drive/My Drive/Love is Love/Dataset/Test811.jpg',\n",
       " '/content/drive/My Drive/Love is Love/Dataset/Test396.jpg',\n",
       " '/content/drive/My Drive/Love is Love/Dataset/Test522.jpg',\n",
       " '/content/drive/My Drive/Love is Love/Dataset/Test903.jpg',\n",
       " '/content/drive/My Drive/Love is Love/Dataset/Test946.jpg',\n",
       " '/content/drive/My Drive/Love is Love/Dataset/Test519.jpg',\n",
       " '/content/drive/My Drive/Love is Love/Dataset/Test533.jpg',\n",
       " '/content/drive/My Drive/Love is Love/Dataset/Test489.jpg',\n",
       " '/content/drive/My Drive/Love is Love/Dataset/Test417.jpg',\n",
       " '/content/drive/My Drive/Love is Love/Dataset/Test760.jpg',\n",
       " '/content/drive/My Drive/Love is Love/Dataset/Test778.jpg',\n",
       " '/content/drive/My Drive/Love is Love/Dataset/Test204.jpg',\n",
       " '/content/drive/My Drive/Love is Love/Dataset/Test227.jpg',\n",
       " '/content/drive/My Drive/Love is Love/Dataset/Test230.jpg',\n",
       " '/content/drive/My Drive/Love is Love/Dataset/Test243.jpg',\n",
       " '/content/drive/My Drive/Love is Love/Dataset/Test212.jpg',\n",
       " '/content/drive/My Drive/Love is Love/Dataset/Test179.jpg',\n",
       " '/content/drive/My Drive/Love is Love/Dataset/Test164.jpg',\n",
       " '/content/drive/My Drive/Love is Love/Dataset/Test209.jpg',\n",
       " '/content/drive/My Drive/Love is Love/Dataset/Test114.jpg',\n",
       " '/content/drive/My Drive/Love is Love/Dataset/Test108.jpg',\n",
       " '/content/drive/My Drive/Love is Love/Dataset/Test238.jpg',\n",
       " '/content/drive/My Drive/Love is Love/Dataset/Test113.jpg',\n",
       " '/content/drive/My Drive/Love is Love/Dataset/Test151.jpg',\n",
       " '/content/drive/My Drive/Love is Love/Dataset/Test152.jpg',\n",
       " '/content/drive/My Drive/Love is Love/Dataset/Test250.jpg',\n",
       " '/content/drive/My Drive/Love is Love/Dataset/Test168.jpg',\n",
       " '/content/drive/My Drive/Love is Love/Dataset/Test239.jpg',\n",
       " '/content/drive/My Drive/Love is Love/Dataset/Test213.jpg',\n",
       " '/content/drive/My Drive/Love is Love/Dataset/Test192.jpg',\n",
       " '/content/drive/My Drive/Love is Love/Dataset/Test132.jpg',\n",
       " '/content/drive/My Drive/Love is Love/Dataset/Test119.jpg',\n",
       " '/content/drive/My Drive/Love is Love/Dataset/Test141.jpg',\n",
       " '/content/drive/My Drive/Love is Love/Dataset/Test165.jpg',\n",
       " '/content/drive/My Drive/Love is Love/Dataset/Test107.jpg',\n",
       " '/content/drive/My Drive/Love is Love/Dataset/Test145.jpg',\n",
       " '/content/drive/My Drive/Love is Love/Dataset/Test135.jpg',\n",
       " '/content/drive/My Drive/Love is Love/Dataset/Test206.jpg',\n",
       " '/content/drive/My Drive/Love is Love/Dataset/Test201.jpg',\n",
       " '/content/drive/My Drive/Love is Love/Dataset/Test180.jpg',\n",
       " '/content/drive/My Drive/Love is Love/Dataset/Test232.jpg',\n",
       " '/content/drive/My Drive/Love is Love/Dataset/Test231.jpg',\n",
       " '/content/drive/My Drive/Love is Love/Dataset/Test126.jpg',\n",
       " '/content/drive/My Drive/Love is Love/Dataset/Test221.jpg',\n",
       " '/content/drive/My Drive/Love is Love/Dataset/Test176.jpg',\n",
       " '/content/drive/My Drive/Love is Love/Dataset/Test216.jpg',\n",
       " '/content/drive/My Drive/Love is Love/Dataset/Test234.jpg',\n",
       " '/content/drive/My Drive/Love is Love/Dataset/Test117.jpg',\n",
       " '/content/drive/My Drive/Love is Love/Dataset/Test218.jpg',\n",
       " '/content/drive/My Drive/Love is Love/Dataset/Test136.jpg',\n",
       " '/content/drive/My Drive/Love is Love/Dataset/Test122.jpg',\n",
       " '/content/drive/My Drive/Love is Love/Dataset/Test198.jpg',\n",
       " '/content/drive/My Drive/Love is Love/Dataset/Test166.jpg',\n",
       " '/content/drive/My Drive/Love is Love/Dataset/Test249.jpg',\n",
       " '/content/drive/My Drive/Love is Love/Dataset/Test140.jpg',\n",
       " '/content/drive/My Drive/Love is Love/Dataset/Test131.jpg',\n",
       " '/content/drive/My Drive/Love is Love/Dataset/Test194.jpg',\n",
       " '/content/drive/My Drive/Love is Love/Dataset/Test144.jpg',\n",
       " '/content/drive/My Drive/Love is Love/Dataset/Test240.jpg',\n",
       " '/content/drive/My Drive/Love is Love/Dataset/Test188.jpg',\n",
       " '/content/drive/My Drive/Love is Love/Dataset/Test109.jpg',\n",
       " '/content/drive/My Drive/Love is Love/Dataset/Test133.jpg',\n",
       " '/content/drive/My Drive/Love is Love/Dataset/Test181.jpg',\n",
       " '/content/drive/My Drive/Love is Love/Dataset/Test125.jpg',\n",
       " '/content/drive/My Drive/Love is Love/Dataset/Test172.jpg',\n",
       " '/content/drive/My Drive/Love is Love/Dataset/Test237.jpg',\n",
       " '/content/drive/My Drive/Love is Love/Dataset/Test244.jpg',\n",
       " '/content/drive/My Drive/Love is Love/Dataset/Test149.jpg',\n",
       " '/content/drive/My Drive/Love is Love/Dataset/Test245.jpg',\n",
       " '/content/drive/My Drive/Love is Love/Dataset/Test173.jpg',\n",
       " '/content/drive/My Drive/Love is Love/Dataset/Test191.jpg',\n",
       " '/content/drive/My Drive/Love is Love/Dataset/Test211.jpg',\n",
       " '/content/drive/My Drive/Love is Love/Dataset/Test233.jpg',\n",
       " '/content/drive/My Drive/Love is Love/Dataset/Test100.jpg',\n",
       " '/content/drive/My Drive/Love is Love/Dataset/Test154.jpg',\n",
       " '/content/drive/My Drive/Love is Love/Dataset/Test103.jpg',\n",
       " '/content/drive/My Drive/Love is Love/Dataset/Test161.jpg',\n",
       " '/content/drive/My Drive/Love is Love/Dataset/Test187.jpg',\n",
       " '/content/drive/My Drive/Love is Love/Dataset/Test162.jpg',\n",
       " '/content/drive/My Drive/Love is Love/Dataset/Test128.jpg',\n",
       " '/content/drive/My Drive/Love is Love/Dataset/Test242.jpg',\n",
       " '/content/drive/My Drive/Love is Love/Dataset/Test183.jpg',\n",
       " '/content/drive/My Drive/Love is Love/Dataset/Test236.jpg',\n",
       " '/content/drive/My Drive/Love is Love/Dataset/Test134.jpg',\n",
       " '/content/drive/My Drive/Love is Love/Dataset/Test129.jpg',\n",
       " '/content/drive/My Drive/Love is Love/Dataset/Test105.jpg',\n",
       " '/content/drive/My Drive/Love is Love/Dataset/Test143.jpg',\n",
       " '/content/drive/My Drive/Love is Love/Dataset/Test158.jpg',\n",
       " '/content/drive/My Drive/Love is Love/Dataset/Test225.jpg',\n",
       " '/content/drive/My Drive/Love is Love/Dataset/Test228.jpg',\n",
       " '/content/drive/My Drive/Love is Love/Dataset/Test160.jpg']"
      ]
     },
     "execution_count": 10,
     "metadata": {
      "tags": []
     },
     "output_type": "execute_result"
    }
   ],
   "source": [
    "paths"
   ]
  },
  {
   "cell_type": "code",
   "execution_count": null,
   "metadata": {
    "colab": {
     "base_uri": "https://localhost:8080/",
     "height": 68
    },
    "colab_type": "code",
    "id": "3DT9CfQZ4BJF",
    "outputId": "41622a23-af9c-46dd-f079-4e25ffeaef43"
   },
   "outputs": [
    {
     "name": "stdout",
     "output_type": "stream",
     "text": [
      "MD5 hash mismatch, possible file corruption\n",
      "Re-downloading the recognition model, please wait\n",
      "Download complete\n"
     ]
    }
   ],
   "source": [
    "import easyocr\n",
    "reader = easyocr.Reader(['en'])"
   ]
  },
  {
   "cell_type": "code",
   "execution_count": null,
   "metadata": {
    "colab": {},
    "colab_type": "code",
    "id": "BOW8BsnM4BJI"
   },
   "outputs": [],
   "source": [
    "x=reader.readtext('/content/drive/My Drive/Love is Love/Dataset/Test1001.jpg')"
   ]
  },
  {
   "cell_type": "code",
   "execution_count": null,
   "metadata": {
    "colab": {
     "base_uri": "https://localhost:8080/",
     "height": 374
    },
    "colab_type": "code",
    "id": "Nwd5ygUB8Di0",
    "outputId": "6aa45d27-c4d2-41d5-fe96-178643caf35e"
   },
   "outputs": [
    {
     "data": {
      "text/plain": [
       "[([[32, 14], [208, 14], [208, 42], [32, 42]],\n",
       "  'When people ask',\n",
       "  0.8024377822875977),\n",
       " ([[30, 38], [214, 38], [214, 64], [30, 64]],\n",
       "  'what Isee in you,',\n",
       "  0.07900962978601456),\n",
       " ([[42, 60], [204, 60], [204, 88], [42, 88]],\n",
       "  'Ijust smile and',\n",
       "  0.15037031471729279),\n",
       " ([[28, 83], [216, 83], [216, 113], [28, 113]],\n",
       "  'look away because',\n",
       "  0.785081684589386),\n",
       " ([[8, 104], [248, 104], [248, 134], [8, 134]],\n",
       "  'Im afraid ifthey knew,',\n",
       "  0.5500624775886536),\n",
       " ([[36, 130], [216, 130], [216, 158], [36, 158]],\n",
       "  'theyd fall in love',\n",
       "  0.7659639716148376),\n",
       " ([[60, 154], [196, 154], [196, 182], [60, 182]],\n",
       "  'with you too.',\n",
       "  0.25999242067337036)]"
      ]
     },
     "execution_count": 22,
     "metadata": {
      "tags": []
     },
     "output_type": "execute_result"
    }
   ],
   "source": [
    "x"
   ]
  },
  {
   "cell_type": "code",
   "execution_count": null,
   "metadata": {
    "colab": {},
    "colab_type": "code",
    "id": "ikrtoEZN4BJM"
   },
   "outputs": [],
   "source": [
    "text=[]\n",
    "no=[]\n",
    "for i in paths:\n",
    "  data=[]\n",
    "  for j in reader.readtext(i):\n",
    "    data.append(j[1])\n",
    "  text.append(\" \".join(data))\n",
    "  no.append(i.split('\\\\')[-1])"
   ]
  },
  {
   "cell_type": "code",
   "execution_count": null,
   "metadata": {
    "colab": {
     "base_uri": "https://localhost:8080/",
     "height": 1000
    },
    "colab_type": "code",
    "id": "DZx6nBAi4BJQ",
    "outputId": "5f2f5bf2-a166-49b3-a252-8b701ce9a202"
   },
   "outputs": [
    {
     "data": {
      "text/plain": [
       "['KEEP CALM AND LOVE WHO YOU WANT Tar^o kar',\n",
       " 'Turaeayrerou ram anrngnnlor mnnr aalern irn oarlanlmnnr ce',\n",
       " \"YOU SAY 'BE STFAJIGHT' I SAY MTASTE THE RAINBOW' To Mar\",\n",
       " 'IE m  ess a to w nores will kn nver m La amei9 can Le zou M> Anela',\n",
       " 'THIMK MIRRIIGLISAS ArIpeIIGChnS IMIIS BLIN, BLTMLINAunN AN0A DnN GTBT',\n",
       " 'orr0 ululce yggy anesAN marriages UEVE PPOPE STII PROTESTIN THIS SHIT Simely because iLis noneol mydamn businesshow others choose to live their infos',\n",
       " \"ONNE DAY WE WONT HAVE TO COME OUT OF THE CLOSET' WE'LL JUST SAY WE ARE IN LOV= AND THAT WILL ALL THAT MATT Tao mar\",\n",
       " 'Yov ULLoT HAVL rolnut tit hrD tenilve FIFD.',\n",
       " 'PROUD ll8l',\n",
       " 'lo belolroid ls co behove Os che erurh were noe crue.',\n",
       " 'To be afraid is to behave as if the truth were not true. BAYARD RUSTIN',\n",
       " '',\n",
       " 'Do yu realize whar you when you say sa That\\'s so gayl\"? GAY\" HOr Mrcn cno0 no1. tobo',\n",
       " 'you re not out and proud, yours urte outannabestmontn ine Don spendanolner hiding closet andsnamne ou donina for roudeserv and your trib naitingto walcomo vouhome',\n",
       " 'Being gayis like being lefthanded. Some people  are most people arent and nobodyreallyknows why. Its notrightorwong, itsjustthe waythings are! Being Gay & Proud Quotes geckoandfly. wwu7U com',\n",
       " 'We are powerful because we have survived. AUDRE LORDE',\n",
       " 'nun erer T} Ne6A ail',\n",
       " \"PPeople dont know ifim gay straight or an alien from outer space.. its funny' Gerard Wag\",\n",
       " 'IF I COULD HAVE CHOSEN TO BE GAY OR STRAIGHT, I THINKI WOULD HAVE SIMPLY CHOSEN TO BE HAPPY 0 k hlrp',\n",
       " '&ozel9e o  c6~~#?9 auae Aelo',\n",
       " 'Iwish more teachers could elaborate on it ILGBTQ topics] and talk about it more, instead of like, two sentences and then dismiss the subject. ELAINA in Wnat Do You Know? Sulo Twelve Year Olds Tal AbouttGarO Topics Welcoming Schools Film)',\n",
       " 'Tatergreram dnallaar lrn nanllya fnn',\n",
       " 'When people ask what Isee in you, Ijust smile and look away because Im afraid ifthey knew, theyd fall in love with you too.',\n",
       " 'jefeeleern 6aa] Maureu2lse myusng tael f ram  liraye mol2]222_ funanne tazs alueeuna ae nGala5eenelunue2l12]#024|00 Dalna mnuae rsp2lalneIl82 e501 ane]6',\n",
       " 'Gn< me eMe re[o nar nu   cr8  C^',\n",
       " 'Qvialoo DIAUTIFUI a ib ulID9vN ill CIOSIT',\n",
       " 'myamrnro Ioanlosurlnsndl: seren no Coalnaa] a3 Calo 44 9s4ol7',\n",
       " 'From the time | was a kid, Ihave never been able to understand attacks upon the gay community. There are so many qualities that make up a human being. bythe time | get through with all the things people, really that| admire about they do with their private parts is what probably so low on the list that it is irrelevant. Paul Newman AciORIDIRECTOR r',\n",
       " 'eo msslest cartgo p Tm becalse caat3 o me. Mase Anelo',\n",
       " 'inu 6',\n",
       " 'Ln dfrai! nof of L uio e',\n",
       " '',\n",
       " \"CC Find out who you are and be that person. That's what your soul on this earth was put to be. Find that truth, live that truth, and everything else will come. Ellen 99\",\n",
       " 'Jesus chink compassionate, va5 super-intelligent gay man who understood human problems. On the cross, he forgave the people who crucified him. Jesus wanted us to be loving and forgiving. don t knov what makes people so cruel. Try being gay woman in the Middle East as dead good s vou re Elton John',\n",
       " 'Saluinaovvoring ar lalentzd zyen nere qain noubl Iibian tosgnanol2 oucan cfchins  lalding n@ Moll Gno',\n",
       " 'Ie pwcud oulo qu ale',\n",
       " '',\n",
       " '\"Shine yur soulwith the same humility egoless as the rainbow andno matter where you go in this worddorthe nert, love wilfindyou, attendyou audbless you Aberhani Grom Jouneythrughihe Pouerofihe Ranbou Kabvu 8an bySara L',\n",
       " 'If Harty Poller onylhing pught us irreuhal no onie shoula liin a dosil',\n",
       " 'o~ eelce asl celcete Agla',\n",
       " 'irr Zlrlr,authol  lr MLiy: lln luoT nihl43 cing duilengiailar inlensuly Riehinltt 11 33  ranolwhatfbovtunn 0114)711~1,711;14111 mnsralisvtalkalnat 1   Instjsildlnnin rllal ml',\n",
       " 'IFFncoUULp HAVE CMOSEN TO BE    nAVErsmmPLY CHOSEN TO BE HAPPY',\n",
       " 'Alotofparents will do anythingfor their kids exceptletthem be themselves. Being Gay & Proud Quotes o geckoandfly. com ww7u',\n",
       " 'How LGBT Athletes are Claiming their Play: Zeigler, author of\"Fair defied the notion that sports are inherently Rightful Place in Sports,\\' homophobic. Part ofwhat is keeping gay athletes closeted, Zeigler said, is the hyper heterosexism that exists in locker rooms. Negative talk about is not the issue. Instead, it\\'s the demeaning talk about women. gay people',\n",
       " 'Its funnyhowweknowgay existandwedont people ofGodbutwe have  proof deny gaypeoplebasic 871 human nghts because itmightpiss offGod. Being Gay & Proud Quotes geckoandfly. w7u70 com',\n",
       " 'nmogsare goy nga dos Fvom eln 5 emell alla ooeeo fiesr ozod>5 ga',\n",
       " '',\n",
       " 'LOVE IS TOO BEAUTIHUUL TO BE HIDDEIN IN THE CLOSET Tamo qar',\n",
       " '',\n",
       " 'Notli^3 nock nll enless o ryla M~-~',\n",
       " 'iaesaarnlanis ineanalnort imralia Gan',\n",
       " \"People mayhate you forbeingdifferentand bysocietys living not standards, but deep down, they they wish had the courageto do the same. Being Gay & Proud 'Qudlese S geckoandfly. wwwU. com\",\n",
       " 'just heard you say ihat\\'seaso gay!\\' olhorlilnoe)ou\"@oul6 LGe Snteresungi ludicrous frivolous icational. bogusstiegi curoys cunou5 insipla absurdnidiculous igooty. annoying. asinine Surrea Pathetic. wuchlyl yesterday',\n",
       " 'We ms enconter lects me^1 bt ot nst n Le eelectee Mae Aoela',\n",
       " 'Ge Find oul who you are land ba thal p arson- Thal s anal your soul was put on unis earuh to bs ind tnal trulh tve tnat uruln and evannning slse unil core 55',\n",
       " 'We ore powertul becouse we hove sur vived r',\n",
       " 'xxe  ',\n",
       " '  6#o@) ncalaiaie lanna iriserda m0 ',\n",
       " '',\n",
       " 'GLycULTUREIS SURVIVIIICIID THRIVrc soHcacTvsTs BalAM TCRECLIT RISLIIHOHOPHOBIC MOUHHCLMIGHT BCA GLUGLOFT[ SUCCESS OF POSITIVE GIIVIMIGES. ase5u0',\n",
       " 'cny cudiunHis suavIViO nciVi son IG IOXNCE HOM0 QulC succis3 GN cnude  ofrOSIIIyL mndG5.',\n",
       " 'When people ask what Isee in you, Ijust smile and look away because Im afraid ifthey knew, theyd fall in love with you too.',\n",
       " ' DAY s6mTHAVE TO coMg olT ols THE CLOlsls2 W L[ J0si3e WARE INI AND THATIIL ALL THAT MAir',\n",
       " 'If Harty Poller pughl us onylhing irsunalnojois aonlalislm ajdanart',\n",
       " 'Do you realize what you say. when you say Ihat\\'s so gay!\"? The way has ddays is usednowa- gay a negative connotation. Which it should not! GAY means brighily colored happy and or homosoxual HOr AMMoYIMG. sruPID. FooLISH. PATHEIIC. auplenous.RnAilouneunlous.    WEAK. Docus. niDiculous. FnIvolous. HIlDISH. nusunD AwKWAnD. on FnEAKY CHOOSEA WQRD WICH MEANS WHAT YOU MGANIO SAY. IIS ONLY IHE SMART IHING IO DO.',\n",
       " '',\n",
       " '',\n",
       " 'Ofcourse gaymen dress well. Theydidnt spend all thattime in the closet doing nothing. Being Gay & Proud Quotes www geckoandfly.com',\n",
       " '\"Onstage, devil. But Im hardlya Lam a social reject. Hercarg Freddle naelamaa ian\"aranaleno',\n",
       " '\"EVEN IN THE BIBLE WE CANREAD NA ANG BABAE, DAPAT MAGSUOT NA PAMBABAE AT ANG LALAKI, MAGSUOT NG PANLALAKI. THATS WHATI BELIEVE\"',\n",
       " 'locsilc',\n",
       " 'neere poseklelre6 nerne= gua%0 lnaiare4rre er',\n",
       " 'islongjss uno Esrerlabon cinoln nastales stonen beleg belemens sumi as ennal fuur ang Suna Bin ula nol nddlnbronesaalsydors aa04',\n",
       " 'Being gayis nota crime anditis nota sin. Stop using Godto justifyyour prejudice. Religion is aboutlovingone another You rejust looking foran excuse tohate. Being Gay & Proud Quotes geckoandfly. wwu7U com',\n",
       " 'LovE Is To0 BEAunIIL TO gE HlDDlsl IN THE CLOSIs',\n",
       " '',\n",
       " 'ITHINKA 66 MARRIAGE IS AS A MARRIAGE HAS ALWAVS BEEN, 6 BETWEENA MAN AND A WOMAN\" MLUey PDOMAMCLIIVTDI, 2Db0 H#TBT',\n",
       " 'B becter togtl gts',\n",
       " 'LOVE Gve',\n",
       " '  LOV  is aeve   ',\n",
       " 'uguu5cI^a!5MIt0 snoutonuingcytntDa Datgngr uM nlnu st5jntiutngn3CulDG1 nru nyegoncGrnseCI mennnso urnnrnu Guntag cilNuucurrnaM',\n",
       " 'KEEP CALM AND LOVE WHO YoU WANT',\n",
       " '',\n",
       " 'zol BgE STlnSHT` sTE sAY THEl8]3W',\n",
       " 'Qwialso BAUIIFUI a fotrrbbN IT CIOST',\n",
       " '',\n",
       " '  tragedy in their some lives, but Tve onlyhad tragic haircuts and',\n",
       " '',\n",
       " 'lr luo fnmn',\n",
       " '3\".117?0 410 tralh7',\n",
       " 'ACCEPANCE OF YOURSELF ISEARMORE IMPORTANT THAN ACCEPTANCE inoM orHERS.',\n",
       " \"THERE'S NOTHING WRONG WITH YOU. THERE'S A LOT WRONNG WITH THE WORLD YOU LIVE IN C0l[R CRs Tano= kr\",\n",
       " '99',\n",
       " 'you are LOVABLE WORTHY ENOUGH BRAVE',\n",
       " '',\n",
       " 'SDuNDS Giy IM IN',\n",
       " 'WDODUD-oD=DA wAis BenIs TN{VS MAT @pe Dlade LnIs IyJy @DR Gkc Sl~  len T mpte Icto ml gM in ay',\n",
       " 'GODAND GAY THE CHRISTIAN MATTHEIV VIES',\n",
       " '',\n",
       " \"learned compassion from being discriminated against. Everything bad that's ever happened to me has taught compassion. me DEGENERES ELLEN\",\n",
       " 'Dl YoU LIKE BoYs OR GIRLS? YES.',\n",
       " 'He are legal!!! fifty In all states!!! fir{J7',\n",
       " 'ITHINK BEING GAVISA BLESSING,  ANDITSSOMETHING IAMTHANFUL FOR EVERVSINGLEDIV D[RS  nr C0 P 0 t ',\n",
       " \"cleliene you can @ you' re halfway Zee. T. ROOSEVELT\",\n",
       " 'aoandonna cuinunoo msm4 a mn ananinunna biteny donle o0 camDsolnlyo Inlyl naanaoura orgnnbundalgnndno nomovdon ',\n",
       " \"Life's a game. Play to win.\",\n",
       " 'BE YuRSHE naorinincly al0 wotk more thar a cOP1:',\n",
       " 'The Biblical Case in Support of Same-Sex Relationships ()AND G C^ THE A4 Y CHRISTIAN MATTHEW VINES',\n",
       " 'GC Happiness is whenwhat youthink, whatyou say,and what you doarein harmony 95 inopungandpouavequolca com Inspiring and Positive Quotes <3',\n",
       " 'ou dont have to BE GA TCBIA SUPPORTER just have to iou De fuman! Daniel Radcliffe',\n",
       " 'loe to@',\n",
       " 'IAMGAV IAMSTRAIGHE IAMEESHIAN IAMHISEXUAE. IAMFRANSGENDERED IAM HUMAN.',\n",
       " 'THE BEAUTV OF STANDING UP FOR YOUR RIGHTSIS OTHERS SEE YOU STANDING AND STAND UP AS WELL. T',\n",
       " 'Being gayis like being lefthanded. Some people  are most people arent and nobodyreallyknows why. Its notrightorwong, itsjustthe waythings are! Being Gay & Proud Quotes geckoandfly. wwu7U com',\n",
       " '   the UNis anything but neutral',\n",
       " 'Gey calture is surviving and thrlving. Some activists believe the recent rise in homophobic violence might be a gauge of the success of positive gay images Lance Loca Oolefincl.cun',\n",
       " 'GAY CULTURE IS SURVIVINVG AND THRIVINVG. SOME ACTIVISTS BELIEVE THE RECENT RISEIN HOMOPHOBIC VIOLENVCE MIGHT BEA GAUGE OF THE SuCCESS OF POSITIVE GAY IMAGES. uMctlouo dotenielsgon',\n",
       " \"If Haryy Poller pught us anylhing It's that no one should live in a closet\",\n",
       " 'MARRIAGE !S ABOUT LOy NOTCENDER',\n",
       " 'SDUNDS Fas IM IN',\n",
       " ':fiosltii vrnan stiiils uj mr lrrsilusailiin kiuswing it jssilly. illisnt vlainingit. slirsstiilsuj lir nll nooo0 aoinaanou',\n",
       " 'e%8## #88#8##%#s.',\n",
       " 'Burst dovn those closet doors once and for all, and stand up and start to fight. Harvey Mill Gsnalmnaci corn',\n",
       " 'Ts rusan unsesla[3 a41 noe amolly blkelea byune seatus quo Is repulsve',\n",
       " \"Claimingthat someone else's marniage is against being your religion islike angrywth someone for eatinga donutwhen you're on a diet. Being Gay & Proud Quotes geckoandfly. wwwU. com\",\n",
       " 'Back then my denial wasboth active and passive. Caught shadowboxing mysubconscious,Iwas determinedto dodge the danger ol mynatural desires',\n",
       " 'SOUNDS GA_ IM IN ee',\n",
       " 'When it comes to the rights of LGBT people the UN is anything but neutral. CHARIES RADCLIFFE UNFREE&LOUAL alree equal Gchales_tad evsnoesosos ',\n",
       " 'vality.  avve. pile.',\n",
       " 'IF FALL ASLEEP TEXTING YOU ITS BECAUSE DDMT WANT TO SAY GOODBYE',\n",
       " 'nin nint lrii hilsirsv\"ini muolru\"t.007:00 vliru lir sl ll`> ariyrrylillirinl Iriiiniyii. nueoane0e0',\n",
       " \"KEEP CALM BECAUSE IT'S OKAY TO BE GAY\",\n",
       " \"Lile's a game. Playto win\",\n",
       " 'cci you can you re halfivay Z. r. KaasuL1',\n",
       " 'korned composoion lrom bcing discrminotcd ogoinst. Everyening bod uhovs hopoeneo to hos Couohe me comoossons ',\n",
       " 'DONT & PLEASE STRAIGHT',\n",
       " '',\n",
       " 'NOTHINC WOULD PE THE SPME E_7OUD!D NOTEXIST',\n",
       " 'Qrmirg bnnzornisorn',\n",
       " 'We are legal\"\" Hilty Inall states\"',\n",
       " 'HATE IT HAS CAUSED A LOT OF PROBLEMS IN THIS WORLD, BUIT IS HAS NOT SOLVED ONE YET. MAYA ANGELOu',\n",
       " \"Whatis straight?A line can be straight, ora street, but the human heart, oh, no, it's curved like a road through mountains. Sayinglmages.com TENNESSEE WILLIAMS\",\n",
       " 'Gay pride or LGBT pride is the positive stance against discrimination and violence toward lesbian, gay, bisexual, and transgender (LGBT) people to promote their self-affirmation, dignity, equality rights, increase their visibility as a social group, build community, and celebrate sexual diversity and gender variance. Your uote.in',\n",
       " 'HATE Ir HAs CAUSEDALOT Or TnouLLusN THIS wOHLD, HUTI5 HAS aoTSOLVED OE VET MAY^ AvGELou',\n",
       " 'BE zsuegece',\n",
       " '',\n",
       " '\"BE STRONG, YOU NEVER KNOWWHO YOU ARE INSPIRING\"',\n",
       " 'Being gayis nota crime anditis nota sin. Stop using Godto justifyyour prejudice. Religion is aboutlovingone another You rejust looking foran excuse tohate. Being Gay & Proud Quotes geckoandfly. wwu7U com',\n",
       " 'BE ILuRSHE naoriyinaly alwu wonl ore thu ~cO>4.',\n",
       " 'go There s nothing wrong wirh you. Theres a lof wrong wirh the world you live in cirs Coller',\n",
       " 't',\n",
       " 'mlle1[[1 Isnr0 Isr nu [[\"T TI[s24[01[1 n11 m8 2',\n",
       " 'l am nol liece while anywoman is unliee, even when her shackles are very dillerent liom my Ownl. AUDRE LORDE GH',\n",
       " '33 6 qouidel drcamstimc com |0 145823917 @ Barrirret',\n",
       " 'Mretahen drnial Leinactir ondvaoowz Caughi shadovshoning miycubronerioudlwao feternineaio dolzainadiero naturafasine',\n",
       " 'MAINOT BE THCSAM Di TlTSNi MVulM mRaanV nL MER HuIL DIVNRIGHTISUPPORTIT r',\n",
       " \"The pressures on gay teens can be overwhelming-to keep secrets, tell lies. deny who are. and try you to be who you're not. Remember: you are special and worth being cared about. loved. and accepted just as you are. Never. ever let anyone convince you otherwise Aler Sancher Aulhor\",\n",
       " 'r0 jurnu; re',\n",
       " ' 8 Gvally  otve.  pnie.  ',\n",
       " '',\n",
       " '',\n",
       " 'GG 99 Top Pro & Con Quotes',\n",
       " 'mLDOw tGnQ st mlll4',\n",
       " '',\n",
       " '',\n",
       " 'TEEN PROBLEhS',\n",
       " '',\n",
       " '',\n",
       " 'nunal aaulaen8t6lue fostananuuusnunaieuu T majny lslesti 4P nraal tne tnuT semimanay Irun novsoaunihjs5alv slsin tuntesuofslav3 tees ls alajelrile negouse tanray4 e alu3u3 itelnlT  mnneinan fuuca nse  Acie aiun lalu fdusunn mz sstknssetiestile t\"rsi ori  ausu fevurate natray lln srneval ik7ikefrol drnvalNls^ uuTreosoy seaelae Nr. Atilyauoue4 uin nasaulalsulat avuno reanrn tahAltnvanlurz unugsva lsutas tlsytusnov LuuTleni nannulh luu ee 1#1 ale oylolrirn nan8 i6  n 7 m suenidsme retersoilgsure fuuayalotunnfsrnmun m a4s fuautun ncdculnn nossiell ne usaauldalea olue [b5 laeuo fingsin rlsuear rs43 annteigunrne fouasal Inarruraie ntraallnlannet regak1e57671 ioknso natnn0r Tyika Nsstinlskal^ebunemanonesnsllnoheleikusulte2 na\" Wion wa Inuylds_. tutalr talsjasmlt\"steueyael utugi lunir\"1n#42 TR \"',\n",
       " 'IHUHHPOSTI 3',\n",
       " '',\n",
       " 'BE HA',\n",
       " '',\n",
       " '5 BESTGAY QUOTES WWW.GD BL0 G NE T',\n",
       " '',\n",
       " 'learned this the hard way.. \"You either sayhow you feel and fuck it upor say nothing and let it fuck you up instead.\\'',\n",
       " 'KNOWS LOVE GENDER NO',\n",
       " '',\n",
       " 'I',\n",
       " \"oooo Verizon LTE 10:47 AM 34% X Tweet -168 anything negative apologize for r Ive said towards gays and for that matter anyone. | was young, ignorant, stupid, and in a bad place. I've moved on and learned from my mistakes and am so truly sorry to anyone have have nothing against offended. anything promotes that anyone or Sorry equality. again W E R T P K S H D F J A z X B N M 0 # 123 space\",\n",
       " '',\n",
       " 'T0{%78 ailaoti als ouontS fo IISPint Pnoce nno rou nnL fnnno',\n",
       " \"lesbianvenom: lesbianvenom: straighteners aren't worth ur moneyi've been using one for three weeks andi'm still definitelya lesbian living in oll my20 years of this has been byfar mybest joke ever\",\n",
       " '',\n",
       " 'you Oppose gay rights So beCause Of the Bible? try Mnless you also to outlaw Shrime Cocktails ILev 11:9) 2+:161 Cursing IL ev Deut.22:51 Women s jeans 16:51 Arrogance IProv. -Lying IProv. 12:22) Bacon ILev. 11:7 Aclultery Deut. 22:231 Working Sunday INum. 15:32I On please Shut the hell upl',\n",
       " 'Google BeoVor naans booontaaa4 nornosanunny boasenseaa3 aborlon bor armartgg  t6',\n",
       " 'Addidle',\n",
       " 'NISE}: 4Fe MSII car HAPIT cogs Be :  MLSOI Imaan: LGBTQ ML IALK M DONTE Imaan LGTal POOK Msli support mmian orguk',\n",
       " '',\n",
       " 'Eor cul5 jir',\n",
       " 'Memll NOTBE ess` y ERAED',\n",
       " 'HAT',\n",
       " '',\n",
       " '',\n",
       " 'cRu 8',\n",
       " '',\n",
       " ':}',\n",
       " '',\n",
       " '',\n",
       " 'Anti LGBT: States that have laws restricting teachers and stafffrom talking about LGBT issues at school alabima Ailona toulstana Mlssissippl Ouanoma Soulh Carollna Tna3 Urah',\n",
       " '',\n",
       " '',\n",
       " '',\n",
       " '',\n",
       " '',\n",
       " '',\n",
       " '',\n",
       " '',\n",
       " 'I )',\n",
       " '',\n",
       " '',\n",
       " 'BITCH GHETTO ILLEGAL ALIEN NO HOMO RETARDED &LAME THATS SO GAY WHOREIHO & SLUT Wordsfnal HupTzand MHV',\n",
       " 'So you Oppose say Tigits because of the Bible? to outlaw try unless you also i91 cooikal3IL1 17161 nvy 3 Irrgs 3 tero4 Tisli nceo acer; IDvu. lJI Merrn 1531! a please shut the hell u!',\n",
       " '',\n",
       " '',\n",
       " '',\n",
       " 'Anti Bullying: States that have laws prohibiting bullying of students on the bases ofsexual orientation and gender identity Ailansas Calllornla Colorido Connedticut Mlllnols lon Miln Maryland Massacnusetts Minnesot4 Mevida Men Mampsnlre Menlerssy Msn lorl Norih Carolina Oregon Phodelsland Vermont Washington Washington, DC',\n",
       " '',\n",
       " 'Jason J 0 jaybs121|4| Added Me Everyone add my new Snapchat or comment names below. III be posting positive quotes every day Igbtpride loveislove Igbt trans transmatter transgender transgirl transmale lesbian lesbiansex gaypride gay bi bisexualpride bisexual bipride asexual asexualpride pansexualpride pansexual protecttranskids swag ftm pride mtf',\n",
       " 'F HAI',\n",
       " '',\n",
       " 'Married with PRIDF',\n",
       " '',\n",
       " 'IGOIEAISOFIILIIIIGSTORICS',\n",
       " 'for LGBT',\n",
       " '',\n",
       " '',\n",
       " '',\n",
       " 'learned Ihis the hard way... aoueihersyhow nileelandhck upoe siynollungand leo aluck)vu uplnstesds',\n",
       " 'TEENN PROBLEhS',\n",
       " '',\n",
       " '',\n",
       " 'DL:STGAY QuOTES ',\n",
       " '',\n",
       " 'GT',\n",
       " '',\n",
       " '',\n",
       " '',\n",
       " '']"
      ]
     },
     "execution_count": 26,
     "metadata": {
      "tags": []
     },
     "output_type": "execute_result"
    }
   ],
   "source": [
    "text"
   ]
  },
  {
   "cell_type": "code",
   "execution_count": null,
   "metadata": {
    "colab": {},
    "colab_type": "code",
    "id": "oiAdjNgE4BJZ"
   },
   "outputs": [],
   "source": [
    "df=pd.DataFrame(zip(text,no))\n",
    "df.columns=['text','id']"
   ]
  },
  {
   "cell_type": "code",
   "execution_count": null,
   "metadata": {
    "colab": {},
    "colab_type": "code",
    "id": "tzgIQaYd-685"
   },
   "outputs": [],
   "source": [
    "df.id=df.id.apply(lambda x:x.split('/')[-1])"
   ]
  },
  {
   "cell_type": "code",
   "execution_count": null,
   "metadata": {
    "colab": {
     "base_uri": "https://localhost:8080/",
     "height": 204
    },
    "colab_type": "code",
    "id": "vyBoADfq_OOR",
    "outputId": "7a5fbe18-507d-4249-fb0a-00fc92dd27b3"
   },
   "outputs": [
    {
     "data": {
      "text/html": [
       "<div>\n",
       "<style scoped>\n",
       "    .dataframe tbody tr th:only-of-type {\n",
       "        vertical-align: middle;\n",
       "    }\n",
       "\n",
       "    .dataframe tbody tr th {\n",
       "        vertical-align: top;\n",
       "    }\n",
       "\n",
       "    .dataframe thead th {\n",
       "        text-align: right;\n",
       "    }\n",
       "</style>\n",
       "<table border=\"1\" class=\"dataframe\">\n",
       "  <thead>\n",
       "    <tr style=\"text-align: right;\">\n",
       "      <th></th>\n",
       "      <th>text</th>\n",
       "      <th>id</th>\n",
       "    </tr>\n",
       "  </thead>\n",
       "  <tbody>\n",
       "    <tr>\n",
       "      <th>0</th>\n",
       "      <td>KEEP CALM AND LOVE WHO YOU WANT Tar^o kar</td>\n",
       "      <td>Test3118.jpg</td>\n",
       "    </tr>\n",
       "    <tr>\n",
       "      <th>1</th>\n",
       "      <td>Turaeayrerou ram anrngnnlor mnnr aalern irn oarlanlmnnr ce</td>\n",
       "      <td>Test1902.jpg</td>\n",
       "    </tr>\n",
       "    <tr>\n",
       "      <th>2</th>\n",
       "      <td>YOU SAY 'BE STFAJIGHT' I SAY MTASTE THE RAINBOW' To Mar</td>\n",
       "      <td>Test1992.jpg</td>\n",
       "    </tr>\n",
       "    <tr>\n",
       "      <th>3</th>\n",
       "      <td>IE m  ess a to w nores will kn nver m La amei9 can Le zou M&gt; Anela</td>\n",
       "      <td>Test3130.jpg</td>\n",
       "    </tr>\n",
       "    <tr>\n",
       "      <th>4</th>\n",
       "      <td>THIMK MIRRIIGLISAS ArIpeIIGChnS IMIIS BLIN, BLTMLINAunN AN0A DnN GTBT</td>\n",
       "      <td>Test3863.jpg</td>\n",
       "    </tr>\n",
       "  </tbody>\n",
       "</table>\n",
       "</div>"
      ],
      "text/plain": [
       "                                                                    text            id\n",
       "0                              KEEP CALM AND LOVE WHO YOU WANT Tar^o kar  Test3118.jpg\n",
       "1             Turaeayrerou ram anrngnnlor mnnr aalern irn oarlanlmnnr ce  Test1902.jpg\n",
       "2                YOU SAY 'BE STFAJIGHT' I SAY MTASTE THE RAINBOW' To Mar  Test1992.jpg\n",
       "3     IE m  ess a to w nores will kn nver m La amei9 can Le zou M> Anela  Test3130.jpg\n",
       "4  THIMK MIRRIIGLISAS ArIpeIIGChnS IMIIS BLIN, BLTMLINAunN AN0A DnN GTBT  Test3863.jpg"
      ]
     },
     "execution_count": 33,
     "metadata": {
      "tags": []
     },
     "output_type": "execute_result"
    }
   ],
   "source": [
    "df.head()"
   ]
  },
  {
   "cell_type": "code",
   "execution_count": null,
   "metadata": {
    "colab": {
     "base_uri": "https://localhost:8080/",
     "height": 97
    },
    "colab_type": "code",
    "id": "LmIOXmtK_WB6",
    "outputId": "72bffb83-32d3-4463-8bf8-b07f09e564c7"
   },
   "outputs": [
    {
     "data": {
      "text/html": [
       "<div>\n",
       "<style scoped>\n",
       "    .dataframe tbody tr th:only-of-type {\n",
       "        vertical-align: middle;\n",
       "    }\n",
       "\n",
       "    .dataframe tbody tr th {\n",
       "        vertical-align: top;\n",
       "    }\n",
       "\n",
       "    .dataframe thead th {\n",
       "        text-align: right;\n",
       "    }\n",
       "</style>\n",
       "<table border=\"1\" class=\"dataframe\">\n",
       "  <thead>\n",
       "    <tr style=\"text-align: right;\">\n",
       "      <th></th>\n",
       "      <th>text</th>\n",
       "      <th>id</th>\n",
       "    </tr>\n",
       "  </thead>\n",
       "  <tbody>\n",
       "    <tr>\n",
       "      <th>182</th>\n",
       "      <td>lesbianvenom: lesbianvenom: straighteners aren't worth ur moneyi've been using one for three weeks andi'm still definitelya lesbian living in oll my20 years of this has been byfar mybest joke ever</td>\n",
       "      <td>Test107.jpg</td>\n",
       "    </tr>\n",
       "  </tbody>\n",
       "</table>\n",
       "</div>"
      ],
      "text/plain": [
       "                                                                                                                                                                                                     text           id\n",
       "182  lesbianvenom: lesbianvenom: straighteners aren't worth ur moneyi've been using one for three weeks andi'm still definitelya lesbian living in oll my20 years of this has been byfar mybest joke ever  Test107.jpg"
      ]
     },
     "execution_count": 35,
     "metadata": {
      "tags": []
     },
     "output_type": "execute_result"
    }
   ],
   "source": [
    "df.loc[df.id=='Test107.jpg']"
   ]
  },
  {
   "cell_type": "code",
   "execution_count": null,
   "metadata": {
    "colab": {},
    "colab_type": "code",
    "id": "BaVRI9K14BJf"
   },
   "outputs": [],
   "source": [
    "df.to_csv('/content/drive/My Drive/Love is Love/text_data.csv',index=False)"
   ]
  },
  {
   "cell_type": "code",
   "execution_count": null,
   "metadata": {
    "colab": {},
    "colab_type": "code",
    "id": "l0An8KxP4BJi"
   },
   "outputs": [],
   "source": []
  },
  {
   "cell_type": "code",
   "execution_count": null,
   "metadata": {
    "colab": {},
    "colab_type": "code",
    "id": "O5RqiqJ54BJk"
   },
   "outputs": [],
   "source": [
    "# df=pd.read_csv('text_data_dev.csv')"
   ]
  },
  {
   "cell_type": "code",
   "execution_count": null,
   "metadata": {
    "colab": {},
    "colab_type": "code",
    "id": "Hq0WoSNm4BJn"
   },
   "outputs": [],
   "source": [
    "# df['text']=df['text'].replace(df.text[0],\"\")"
   ]
  },
  {
   "cell_type": "code",
   "execution_count": null,
   "metadata": {
    "colab": {
     "base_uri": "https://localhost:8080/",
     "height": 204
    },
    "colab_type": "code",
    "id": "_mSJ4z574BJs",
    "outputId": "08477863-139f-4565-923a-4b34059a2315"
   },
   "outputs": [
    {
     "data": {
      "text/html": [
       "<div>\n",
       "<style scoped>\n",
       "    .dataframe tbody tr th:only-of-type {\n",
       "        vertical-align: middle;\n",
       "    }\n",
       "\n",
       "    .dataframe tbody tr th {\n",
       "        vertical-align: top;\n",
       "    }\n",
       "\n",
       "    .dataframe thead th {\n",
       "        text-align: right;\n",
       "    }\n",
       "</style>\n",
       "<table border=\"1\" class=\"dataframe\">\n",
       "  <thead>\n",
       "    <tr style=\"text-align: right;\">\n",
       "      <th></th>\n",
       "      <th>text</th>\n",
       "      <th>id</th>\n",
       "    </tr>\n",
       "  </thead>\n",
       "  <tbody>\n",
       "    <tr>\n",
       "      <th>0</th>\n",
       "      <td>KEEP CALM AND LOVE WHO YOU WANT Tar^o kar</td>\n",
       "      <td>Test3118.jpg</td>\n",
       "    </tr>\n",
       "    <tr>\n",
       "      <th>1</th>\n",
       "      <td>Turaeayrerou ram anrngnnlor mnnr aalern irn oarlanlmnnr ce</td>\n",
       "      <td>Test1902.jpg</td>\n",
       "    </tr>\n",
       "    <tr>\n",
       "      <th>2</th>\n",
       "      <td>YOU SAY 'BE STFAJIGHT' I SAY MTASTE THE RAINBOW' To Mar</td>\n",
       "      <td>Test1992.jpg</td>\n",
       "    </tr>\n",
       "    <tr>\n",
       "      <th>3</th>\n",
       "      <td>IE m  ess a to w nores will kn nver m La amei9 can Le zou M&gt; Anela</td>\n",
       "      <td>Test3130.jpg</td>\n",
       "    </tr>\n",
       "    <tr>\n",
       "      <th>4</th>\n",
       "      <td>THIMK MIRRIIGLISAS ArIpeIIGChnS IMIIS BLIN, BLTMLINAunN AN0A DnN GTBT</td>\n",
       "      <td>Test3863.jpg</td>\n",
       "    </tr>\n",
       "  </tbody>\n",
       "</table>\n",
       "</div>"
      ],
      "text/plain": [
       "                                                                    text            id\n",
       "0                              KEEP CALM AND LOVE WHO YOU WANT Tar^o kar  Test3118.jpg\n",
       "1             Turaeayrerou ram anrngnnlor mnnr aalern irn oarlanlmnnr ce  Test1902.jpg\n",
       "2                YOU SAY 'BE STFAJIGHT' I SAY MTASTE THE RAINBOW' To Mar  Test1992.jpg\n",
       "3     IE m  ess a to w nores will kn nver m La amei9 can Le zou M> Anela  Test3130.jpg\n",
       "4  THIMK MIRRIIGLISAS ArIpeIIGChnS IMIIS BLIN, BLTMLINAunN AN0A DnN GTBT  Test3863.jpg"
      ]
     },
     "execution_count": 40,
     "metadata": {
      "tags": []
     },
     "output_type": "execute_result"
    }
   ],
   "source": [
    "df.head()"
   ]
  },
  {
   "cell_type": "code",
   "execution_count": null,
   "metadata": {
    "colab": {},
    "colab_type": "code",
    "id": "6s21G3x84BJw"
   },
   "outputs": [],
   "source": [
    "import re\n",
    "import spacy\n",
    "from nltk.tokenize import word_tokenize,regexp_tokenize"
   ]
  },
  {
   "cell_type": "code",
   "execution_count": null,
   "metadata": {
    "colab": {},
    "colab_type": "code",
    "id": "zm49P3ka4BJy"
   },
   "outputs": [],
   "source": [
    "def slash_n(text):\n",
    "    #removing \\n\n",
    "    text=re.sub('\\n',' ',text)\n",
    "    #converting whole string into lowercase\n",
    "    text=text.lower()\n",
    "    return text"
   ]
  },
  {
   "cell_type": "code",
   "execution_count": null,
   "metadata": {
    "colab": {},
    "colab_type": "code",
    "id": "qKSp3-r-4BJ1"
   },
   "outputs": [],
   "source": [
    "df['text_\\n']=df['text'].apply(slash_n)"
   ]
  },
  {
   "cell_type": "code",
   "execution_count": null,
   "metadata": {
    "colab": {
     "base_uri": "https://localhost:8080/",
     "height": 204
    },
    "colab_type": "code",
    "id": "iuEtDqaJ4BJ4",
    "outputId": "94a349db-81f2-4718-8d7c-5effbb0299ae"
   },
   "outputs": [
    {
     "data": {
      "text/html": [
       "<div>\n",
       "<style scoped>\n",
       "    .dataframe tbody tr th:only-of-type {\n",
       "        vertical-align: middle;\n",
       "    }\n",
       "\n",
       "    .dataframe tbody tr th {\n",
       "        vertical-align: top;\n",
       "    }\n",
       "\n",
       "    .dataframe thead th {\n",
       "        text-align: right;\n",
       "    }\n",
       "</style>\n",
       "<table border=\"1\" class=\"dataframe\">\n",
       "  <thead>\n",
       "    <tr style=\"text-align: right;\">\n",
       "      <th></th>\n",
       "      <th>text</th>\n",
       "      <th>id</th>\n",
       "      <th>text_\\n</th>\n",
       "    </tr>\n",
       "  </thead>\n",
       "  <tbody>\n",
       "    <tr>\n",
       "      <th>0</th>\n",
       "      <td>KEEP CALM AND LOVE WHO YOU WANT Tar^o kar</td>\n",
       "      <td>Test3118.jpg</td>\n",
       "      <td>keep calm and love who you want tar^o kar</td>\n",
       "    </tr>\n",
       "    <tr>\n",
       "      <th>1</th>\n",
       "      <td>Turaeayrerou ram anrngnnlor mnnr aalern irn oarlanlmnnr ce</td>\n",
       "      <td>Test1902.jpg</td>\n",
       "      <td>turaeayrerou ram anrngnnlor mnnr aalern irn oarlanlmnnr ce</td>\n",
       "    </tr>\n",
       "    <tr>\n",
       "      <th>2</th>\n",
       "      <td>YOU SAY 'BE STFAJIGHT' I SAY MTASTE THE RAINBOW' To Mar</td>\n",
       "      <td>Test1992.jpg</td>\n",
       "      <td>you say 'be stfajight' i say mtaste the rainbow' to mar</td>\n",
       "    </tr>\n",
       "    <tr>\n",
       "      <th>3</th>\n",
       "      <td>IE m  ess a to w nores will kn nver m La amei9 can Le zou M&gt; Anela</td>\n",
       "      <td>Test3130.jpg</td>\n",
       "      <td>ie m  ess a to w nores will kn nver m la amei9 can le zou m&gt; anela</td>\n",
       "    </tr>\n",
       "    <tr>\n",
       "      <th>4</th>\n",
       "      <td>THIMK MIRRIIGLISAS ArIpeIIGChnS IMIIS BLIN, BLTMLINAunN AN0A DnN GTBT</td>\n",
       "      <td>Test3863.jpg</td>\n",
       "      <td>thimk mirriiglisas aripeiigchns imiis blin, bltmlinaunn an0a dnn gtbt</td>\n",
       "    </tr>\n",
       "  </tbody>\n",
       "</table>\n",
       "</div>"
      ],
      "text/plain": [
       "                                                                    text  ...                                                                text_\\n\n",
       "0                              KEEP CALM AND LOVE WHO YOU WANT Tar^o kar  ...                              keep calm and love who you want tar^o kar\n",
       "1             Turaeayrerou ram anrngnnlor mnnr aalern irn oarlanlmnnr ce  ...             turaeayrerou ram anrngnnlor mnnr aalern irn oarlanlmnnr ce\n",
       "2                YOU SAY 'BE STFAJIGHT' I SAY MTASTE THE RAINBOW' To Mar  ...                you say 'be stfajight' i say mtaste the rainbow' to mar\n",
       "3     IE m  ess a to w nores will kn nver m La amei9 can Le zou M> Anela  ...     ie m  ess a to w nores will kn nver m la amei9 can le zou m> anela\n",
       "4  THIMK MIRRIIGLISAS ArIpeIIGChnS IMIIS BLIN, BLTMLINAunN AN0A DnN GTBT  ...  thimk mirriiglisas aripeiigchns imiis blin, bltmlinaunn an0a dnn gtbt\n",
       "\n",
       "[5 rows x 3 columns]"
      ]
     },
     "execution_count": 44,
     "metadata": {
      "tags": []
     },
     "output_type": "execute_result"
    }
   ],
   "source": [
    "df.head()"
   ]
  },
  {
   "cell_type": "code",
   "execution_count": null,
   "metadata": {
    "colab": {},
    "colab_type": "code",
    "id": "ZHTe9WXX4BJ7"
   },
   "outputs": [],
   "source": [
    "#importing dictonary containing all the contractions and their expander version as their values\n",
    "from contr import CONTRACTION_MAP"
   ]
  },
  {
   "cell_type": "code",
   "execution_count": null,
   "metadata": {
    "colab": {},
    "colab_type": "code",
    "id": "XbFr4UHc4BJ_"
   },
   "outputs": [],
   "source": [
    "def contraction(text):\n",
    "    \"\"\"\n",
    "    This function will return the text in  an expanded form which is in common English. It also helps in generalising the tokens\n",
    "    \"\"\"\n",
    "    tokens=text.split()\n",
    "    tok=[]\n",
    "    for i in tokens:\n",
    "        if i in CONTRACTION_MAP.keys():\n",
    "            tok.append(CONTRACTION_MAP[i])\n",
    "        else:\n",
    "            tok.append(i)\n",
    "    return ' '.join(tok)"
   ]
  },
  {
   "cell_type": "code",
   "execution_count": null,
   "metadata": {
    "colab": {},
    "colab_type": "code",
    "id": "ILOFCIKr4BKC"
   },
   "outputs": [],
   "source": [
    "df['text_cont']=df['text_\\n'].apply(contraction)"
   ]
  },
  {
   "cell_type": "code",
   "execution_count": null,
   "metadata": {
    "colab": {
     "base_uri": "https://localhost:8080/",
     "height": 512
    },
    "colab_type": "code",
    "id": "kr4tAPY64BKF",
    "outputId": "635d3096-e596-46eb-e460-544c16dd39ac"
   },
   "outputs": [
    {
     "data": {
      "text/html": [
       "<div>\n",
       "<style scoped>\n",
       "    .dataframe tbody tr th:only-of-type {\n",
       "        vertical-align: middle;\n",
       "    }\n",
       "\n",
       "    .dataframe tbody tr th {\n",
       "        vertical-align: top;\n",
       "    }\n",
       "\n",
       "    .dataframe thead th {\n",
       "        text-align: right;\n",
       "    }\n",
       "</style>\n",
       "<table border=\"1\" class=\"dataframe\">\n",
       "  <thead>\n",
       "    <tr style=\"text-align: right;\">\n",
       "      <th></th>\n",
       "      <th>text</th>\n",
       "      <th>id</th>\n",
       "      <th>text_\\n</th>\n",
       "      <th>text_cont</th>\n",
       "    </tr>\n",
       "  </thead>\n",
       "  <tbody>\n",
       "    <tr>\n",
       "      <th>0</th>\n",
       "      <td>KEEP CALM AND LOVE WHO YOU WANT Tar^o kar</td>\n",
       "      <td>Test3118.jpg</td>\n",
       "      <td>keep calm and love who you want tar^o kar</td>\n",
       "      <td>keep calm and love who you want tar^o kar</td>\n",
       "    </tr>\n",
       "    <tr>\n",
       "      <th>1</th>\n",
       "      <td>Turaeayrerou ram anrngnnlor mnnr aalern irn oarlanlmnnr ce</td>\n",
       "      <td>Test1902.jpg</td>\n",
       "      <td>turaeayrerou ram anrngnnlor mnnr aalern irn oarlanlmnnr ce</td>\n",
       "      <td>turaeayrerou ram anrngnnlor mnnr aalern irn oarlanlmnnr ce</td>\n",
       "    </tr>\n",
       "    <tr>\n",
       "      <th>2</th>\n",
       "      <td>YOU SAY 'BE STFAJIGHT' I SAY MTASTE THE RAINBOW' To Mar</td>\n",
       "      <td>Test1992.jpg</td>\n",
       "      <td>you say 'be stfajight' i say mtaste the rainbow' to mar</td>\n",
       "      <td>you say 'be stfajight' i say mtaste the rainbow' to mar</td>\n",
       "    </tr>\n",
       "    <tr>\n",
       "      <th>3</th>\n",
       "      <td>IE m  ess a to w nores will kn nver m La amei9 can Le zou M&gt; Anela</td>\n",
       "      <td>Test3130.jpg</td>\n",
       "      <td>ie m  ess a to w nores will kn nver m la amei9 can le zou m&gt; anela</td>\n",
       "      <td>ie m ess a to w nores will kn nver m la amei9 can le zou m&gt; anela</td>\n",
       "    </tr>\n",
       "    <tr>\n",
       "      <th>4</th>\n",
       "      <td>THIMK MIRRIIGLISAS ArIpeIIGChnS IMIIS BLIN, BLTMLINAunN AN0A DnN GTBT</td>\n",
       "      <td>Test3863.jpg</td>\n",
       "      <td>thimk mirriiglisas aripeiigchns imiis blin, bltmlinaunn an0a dnn gtbt</td>\n",
       "      <td>thimk mirriiglisas aripeiigchns imiis blin, bltmlinaunn an0a dnn gtbt</td>\n",
       "    </tr>\n",
       "    <tr>\n",
       "      <th>5</th>\n",
       "      <td>orr0 ululce yggy anesAN marriages UEVE PPOPE STII PROTESTIN THIS SHIT Simely because iLis noneol mydamn businesshow others choose to live their infos</td>\n",
       "      <td>Test3625.jpg</td>\n",
       "      <td>orr0 ululce yggy anesan marriages ueve ppope stii protestin this shit simely because ilis noneol mydamn businesshow others choose to live their infos</td>\n",
       "      <td>orr0 ululce yggy anesan marriages ueve ppope stii protestin this shit simely because ilis noneol mydamn businesshow others choose to live their infos</td>\n",
       "    </tr>\n",
       "    <tr>\n",
       "      <th>6</th>\n",
       "      <td>ONNE DAY WE WONT HAVE TO COME OUT OF THE CLOSET' WE'LL JUST SAY WE ARE IN LOV= AND THAT WILL ALL THAT MATT Tao mar</td>\n",
       "      <td>Test2411.jpg</td>\n",
       "      <td>onne day we wont have to come out of the closet' we'll just say we are in lov= and that will all that matt tao mar</td>\n",
       "      <td>onne day we wont have to come out of the closet' we will just say we are in lov= and that will all that matt tao mar</td>\n",
       "    </tr>\n",
       "    <tr>\n",
       "      <th>7</th>\n",
       "      <td>Yov ULLoT HAVL rolnut tit hrD tenilve FIFD.</td>\n",
       "      <td>Test2068.jpg</td>\n",
       "      <td>yov ullot havl rolnut tit hrd tenilve fifd.</td>\n",
       "      <td>yov ullot havl rolnut tit hrd tenilve fifd.</td>\n",
       "    </tr>\n",
       "    <tr>\n",
       "      <th>8</th>\n",
       "      <td>PROUD ll8l</td>\n",
       "      <td>Test2977.jpg</td>\n",
       "      <td>proud ll8l</td>\n",
       "      <td>proud ll8l</td>\n",
       "    </tr>\n",
       "    <tr>\n",
       "      <th>9</th>\n",
       "      <td>lo belolroid ls co behove Os che erurh were noe crue.</td>\n",
       "      <td>Test2616.jpg</td>\n",
       "      <td>lo belolroid ls co behove os che erurh were noe crue.</td>\n",
       "      <td>lo belolroid ls co behove os che erurh were noe crue.</td>\n",
       "    </tr>\n",
       "  </tbody>\n",
       "</table>\n",
       "</div>"
      ],
      "text/plain": [
       "                                                                                                                                                    text  ...                                                                                                                                              text_cont\n",
       "0                                                                                                              KEEP CALM AND LOVE WHO YOU WANT Tar^o kar  ...                                                                                                              keep calm and love who you want tar^o kar\n",
       "1                                                                                             Turaeayrerou ram anrngnnlor mnnr aalern irn oarlanlmnnr ce  ...                                                                                             turaeayrerou ram anrngnnlor mnnr aalern irn oarlanlmnnr ce\n",
       "2                                                                                                YOU SAY 'BE STFAJIGHT' I SAY MTASTE THE RAINBOW' To Mar  ...                                                                                                you say 'be stfajight' i say mtaste the rainbow' to mar\n",
       "3                                                                                     IE m  ess a to w nores will kn nver m La amei9 can Le zou M> Anela  ...                                                                                      ie m ess a to w nores will kn nver m la amei9 can le zou m> anela\n",
       "4                                                                                  THIMK MIRRIIGLISAS ArIpeIIGChnS IMIIS BLIN, BLTMLINAunN AN0A DnN GTBT  ...                                                                                  thimk mirriiglisas aripeiigchns imiis blin, bltmlinaunn an0a dnn gtbt\n",
       "5  orr0 ululce yggy anesAN marriages UEVE PPOPE STII PROTESTIN THIS SHIT Simely because iLis noneol mydamn businesshow others choose to live their infos  ...  orr0 ululce yggy anesan marriages ueve ppope stii protestin this shit simely because ilis noneol mydamn businesshow others choose to live their infos\n",
       "6                                     ONNE DAY WE WONT HAVE TO COME OUT OF THE CLOSET' WE'LL JUST SAY WE ARE IN LOV= AND THAT WILL ALL THAT MATT Tao mar  ...                                   onne day we wont have to come out of the closet' we will just say we are in lov= and that will all that matt tao mar\n",
       "7                                                                                                            Yov ULLoT HAVL rolnut tit hrD tenilve FIFD.  ...                                                                                                            yov ullot havl rolnut tit hrd tenilve fifd.\n",
       "8                                                                                                                                             PROUD ll8l  ...                                                                                                                                             proud ll8l\n",
       "9                                                                                                  lo belolroid ls co behove Os che erurh were noe crue.  ...                                                                                                  lo belolroid ls co behove os che erurh were noe crue.\n",
       "\n",
       "[10 rows x 4 columns]"
      ]
     },
     "execution_count": 51,
     "metadata": {
      "tags": []
     },
     "output_type": "execute_result"
    }
   ],
   "source": [
    "df.head(10)"
   ]
  },
  {
   "cell_type": "code",
   "execution_count": null,
   "metadata": {
    "colab": {},
    "colab_type": "code",
    "id": "vmqp6FXY4BKL"
   },
   "outputs": [],
   "source": [
    "from nltk.sentiment.vader import SentimentIntensityAnalyzer\n",
    "from textblob import TextBlob"
   ]
  },
  {
   "cell_type": "code",
   "execution_count": null,
   "metadata": {
    "colab": {},
    "colab_type": "code",
    "id": "6mUsyWLSBf-a"
   },
   "outputs": [],
   "source": [
    "def spell(text):\n",
    "    text=str(TextBlob(text).correct())\n",
    "    return text"
   ]
  },
  {
   "cell_type": "code",
   "execution_count": null,
   "metadata": {
    "colab": {},
    "colab_type": "code",
    "id": "TYL4zVNKBsI4"
   },
   "outputs": [],
   "source": [
    "df['text_correct']=df['text_cont'].apply(spell)"
   ]
  },
  {
   "cell_type": "code",
   "execution_count": null,
   "metadata": {
    "colab": {
     "base_uri": "https://localhost:8080/",
     "height": 289
    },
    "colab_type": "code",
    "id": "lPaFh0BxCm5W",
    "outputId": "a161b8bb-4da8-48c8-c51c-5d89613268e1"
   },
   "outputs": [
    {
     "data": {
      "text/html": [
       "<div>\n",
       "<style scoped>\n",
       "    .dataframe tbody tr th:only-of-type {\n",
       "        vertical-align: middle;\n",
       "    }\n",
       "\n",
       "    .dataframe tbody tr th {\n",
       "        vertical-align: top;\n",
       "    }\n",
       "\n",
       "    .dataframe thead th {\n",
       "        text-align: right;\n",
       "    }\n",
       "</style>\n",
       "<table border=\"1\" class=\"dataframe\">\n",
       "  <thead>\n",
       "    <tr style=\"text-align: right;\">\n",
       "      <th></th>\n",
       "      <th>text</th>\n",
       "      <th>id</th>\n",
       "      <th>text_\\n</th>\n",
       "      <th>text_cont</th>\n",
       "      <th>text_correct</th>\n",
       "    </tr>\n",
       "  </thead>\n",
       "  <tbody>\n",
       "    <tr>\n",
       "      <th>0</th>\n",
       "      <td>KEEP CALM AND LOVE WHO YOU WANT Tar^o kar</td>\n",
       "      <td>Test3118.jpg</td>\n",
       "      <td>keep calm and love who you want tar^o kar</td>\n",
       "      <td>keep calm and love who you want tar^o kar</td>\n",
       "      <td>keep calm and love who you want tar^o war</td>\n",
       "    </tr>\n",
       "    <tr>\n",
       "      <th>1</th>\n",
       "      <td>Turaeayrerou ram anrngnnlor mnnr aalern irn oarlanlmnnr ce</td>\n",
       "      <td>Test1902.jpg</td>\n",
       "      <td>turaeayrerou ram anrngnnlor mnnr aalern irn oarlanlmnnr ce</td>\n",
       "      <td>turaeayrerou ram anrngnnlor mnnr aalern irn oarlanlmnnr ce</td>\n",
       "      <td>turaeayrerou ram anrngnnlor man adler in oarlanlmnnr ce</td>\n",
       "    </tr>\n",
       "    <tr>\n",
       "      <th>2</th>\n",
       "      <td>YOU SAY 'BE STFAJIGHT' I SAY MTASTE THE RAINBOW' To Mar</td>\n",
       "      <td>Test1992.jpg</td>\n",
       "      <td>you say 'be stfajight' i say mtaste the rainbow' to mar</td>\n",
       "      <td>you say 'be stfajight' i say mtaste the rainbow' to mar</td>\n",
       "      <td>you say 'be straight' i say taste the rainbow' to may</td>\n",
       "    </tr>\n",
       "    <tr>\n",
       "      <th>3</th>\n",
       "      <td>IE m  ess a to w nores will kn nver m La amei9 can Le zou M&gt; Anela</td>\n",
       "      <td>Test3130.jpg</td>\n",
       "      <td>ie m  ess a to w nores will kn nver m la amei9 can le zou m&gt; anela</td>\n",
       "      <td>ie m ess a to w nores will kn nver m la amei9 can le zou m&gt; anela</td>\n",
       "      <td>in m less a to w notes will in over m la amid can le you m&gt; anel</td>\n",
       "    </tr>\n",
       "    <tr>\n",
       "      <th>4</th>\n",
       "      <td>THIMK MIRRIIGLISAS ArIpeIIGChnS IMIIS BLIN, BLTMLINAunN AN0A DnN GTBT</td>\n",
       "      <td>Test3863.jpg</td>\n",
       "      <td>thimk mirriiglisas aripeiigchns imiis blin, bltmlinaunn an0a dnn gtbt</td>\n",
       "      <td>thimk mirriiglisas aripeiigchns imiis blin, bltmlinaunn an0a dnn gtbt</td>\n",
       "      <td>think mirriiglisas aripeiigchns miss blind, bltmlinaunn anna don get</td>\n",
       "    </tr>\n",
       "  </tbody>\n",
       "</table>\n",
       "</div>"
      ],
      "text/plain": [
       "                                                                    text  ...                                                          text_correct\n",
       "0                              KEEP CALM AND LOVE WHO YOU WANT Tar^o kar  ...                             keep calm and love who you want tar^o war\n",
       "1             Turaeayrerou ram anrngnnlor mnnr aalern irn oarlanlmnnr ce  ...               turaeayrerou ram anrngnnlor man adler in oarlanlmnnr ce\n",
       "2                YOU SAY 'BE STFAJIGHT' I SAY MTASTE THE RAINBOW' To Mar  ...                 you say 'be straight' i say taste the rainbow' to may\n",
       "3     IE m  ess a to w nores will kn nver m La amei9 can Le zou M> Anela  ...      in m less a to w notes will in over m la amid can le you m> anel\n",
       "4  THIMK MIRRIIGLISAS ArIpeIIGChnS IMIIS BLIN, BLTMLINAunN AN0A DnN GTBT  ...  think mirriiglisas aripeiigchns miss blind, bltmlinaunn anna don get\n",
       "\n",
       "[5 rows x 5 columns]"
      ]
     },
     "execution_count": 57,
     "metadata": {
      "tags": []
     },
     "output_type": "execute_result"
    }
   ],
   "source": [
    "df.head()"
   ]
  },
  {
   "cell_type": "code",
   "execution_count": null,
   "metadata": {
    "colab": {
     "base_uri": "https://localhost:8080/",
     "height": 51
    },
    "colab_type": "code",
    "id": "xexC0Nn8Cuxx",
    "outputId": "393f23c2-6705-47c2-e92b-70f08ca45523"
   },
   "outputs": [
    {
     "name": "stdout",
     "output_type": "stream",
     "text": [
      "[nltk_data] Downloading package vader_lexicon to /root/nltk_data...\n"
     ]
    },
    {
     "data": {
      "text/plain": [
       "True"
      ]
     },
     "execution_count": 60,
     "metadata": {
      "tags": []
     },
     "output_type": "execute_result"
    }
   ],
   "source": [
    "# import nltk\n",
    "# nltk.download('vader_lexicon')"
   ]
  },
  {
   "cell_type": "code",
   "execution_count": null,
   "metadata": {
    "colab": {},
    "colab_type": "code",
    "id": "ILYAWLwI4BKc"
   },
   "outputs": [],
   "source": [
    "sia=SentimentIntensityAnalyzer()"
   ]
  },
  {
   "cell_type": "code",
   "execution_count": null,
   "metadata": {
    "colab": {},
    "colab_type": "code",
    "id": "aU5CMpjN4BKz"
   },
   "outputs": [],
   "source": [
    "def score(text):\n",
    "    # text=str(TextBlob(text).correct())\n",
    "    s=sia.polarity_scores(text)['compound']\n",
    "#     t=TextBlob(text).sentiment.polarity\n",
    "#     s=t+s\n",
    "    return s"
   ]
  },
  {
   "cell_type": "code",
   "execution_count": null,
   "metadata": {
    "colab": {},
    "colab_type": "code",
    "id": "qHMaCVi14BK2"
   },
   "outputs": [],
   "source": [
    "df['score']=df['text_correct'].apply(score)"
   ]
  },
  {
   "cell_type": "code",
   "execution_count": null,
   "metadata": {
    "colab": {
     "base_uri": "https://localhost:8080/",
     "height": 289
    },
    "colab_type": "code",
    "id": "61yBXotF4BK-",
    "outputId": "6e3b8753-5a59-4b27-afe1-b8418de6ea63"
   },
   "outputs": [
    {
     "data": {
      "text/html": [
       "<div>\n",
       "<style scoped>\n",
       "    .dataframe tbody tr th:only-of-type {\n",
       "        vertical-align: middle;\n",
       "    }\n",
       "\n",
       "    .dataframe tbody tr th {\n",
       "        vertical-align: top;\n",
       "    }\n",
       "\n",
       "    .dataframe thead th {\n",
       "        text-align: right;\n",
       "    }\n",
       "</style>\n",
       "<table border=\"1\" class=\"dataframe\">\n",
       "  <thead>\n",
       "    <tr style=\"text-align: right;\">\n",
       "      <th></th>\n",
       "      <th>text</th>\n",
       "      <th>id</th>\n",
       "      <th>text_\\n</th>\n",
       "      <th>text_cont</th>\n",
       "      <th>text_correct</th>\n",
       "      <th>score</th>\n",
       "    </tr>\n",
       "  </thead>\n",
       "  <tbody>\n",
       "    <tr>\n",
       "      <th>0</th>\n",
       "      <td>KEEP CALM AND LOVE WHO YOU WANT Tar^o kar</td>\n",
       "      <td>Test3118.jpg</td>\n",
       "      <td>keep calm and love who you want tar^o kar</td>\n",
       "      <td>keep calm and love who you want tar^o kar</td>\n",
       "      <td>keep calm and love who you want tar^o war</td>\n",
       "      <td>0.4404</td>\n",
       "    </tr>\n",
       "    <tr>\n",
       "      <th>1</th>\n",
       "      <td>Turaeayrerou ram anrngnnlor mnnr aalern irn oarlanlmnnr ce</td>\n",
       "      <td>Test1902.jpg</td>\n",
       "      <td>turaeayrerou ram anrngnnlor mnnr aalern irn oarlanlmnnr ce</td>\n",
       "      <td>turaeayrerou ram anrngnnlor mnnr aalern irn oarlanlmnnr ce</td>\n",
       "      <td>turaeayrerou ram anrngnnlor man adler in oarlanlmnnr ce</td>\n",
       "      <td>0.0000</td>\n",
       "    </tr>\n",
       "    <tr>\n",
       "      <th>2</th>\n",
       "      <td>YOU SAY 'BE STFAJIGHT' I SAY MTASTE THE RAINBOW' To Mar</td>\n",
       "      <td>Test1992.jpg</td>\n",
       "      <td>you say 'be stfajight' i say mtaste the rainbow' to mar</td>\n",
       "      <td>you say 'be stfajight' i say mtaste the rainbow' to mar</td>\n",
       "      <td>you say 'be straight' i say taste the rainbow' to may</td>\n",
       "      <td>0.2263</td>\n",
       "    </tr>\n",
       "    <tr>\n",
       "      <th>3</th>\n",
       "      <td>IE m  ess a to w nores will kn nver m La amei9 can Le zou M&gt; Anela</td>\n",
       "      <td>Test3130.jpg</td>\n",
       "      <td>ie m  ess a to w nores will kn nver m la amei9 can le zou m&gt; anela</td>\n",
       "      <td>ie m ess a to w nores will kn nver m la amei9 can le zou m&gt; anela</td>\n",
       "      <td>in m less a to w notes will in over m la amid can le you m&gt; anel</td>\n",
       "      <td>0.0000</td>\n",
       "    </tr>\n",
       "    <tr>\n",
       "      <th>4</th>\n",
       "      <td>THIMK MIRRIIGLISAS ArIpeIIGChnS IMIIS BLIN, BLTMLINAunN AN0A DnN GTBT</td>\n",
       "      <td>Test3863.jpg</td>\n",
       "      <td>thimk mirriiglisas aripeiigchns imiis blin, bltmlinaunn an0a dnn gtbt</td>\n",
       "      <td>thimk mirriiglisas aripeiigchns imiis blin, bltmlinaunn an0a dnn gtbt</td>\n",
       "      <td>think mirriiglisas aripeiigchns miss blind, bltmlinaunn anna don get</td>\n",
       "      <td>-0.5106</td>\n",
       "    </tr>\n",
       "  </tbody>\n",
       "</table>\n",
       "</div>"
      ],
      "text/plain": [
       "                                                                    text  ...   score\n",
       "0                              KEEP CALM AND LOVE WHO YOU WANT Tar^o kar  ...  0.4404\n",
       "1             Turaeayrerou ram anrngnnlor mnnr aalern irn oarlanlmnnr ce  ...  0.0000\n",
       "2                YOU SAY 'BE STFAJIGHT' I SAY MTASTE THE RAINBOW' To Mar  ...  0.2263\n",
       "3     IE m  ess a to w nores will kn nver m La amei9 can Le zou M> Anela  ...  0.0000\n",
       "4  THIMK MIRRIIGLISAS ArIpeIIGChnS IMIIS BLIN, BLTMLINAunN AN0A DnN GTBT  ... -0.5106\n",
       "\n",
       "[5 rows x 6 columns]"
      ]
     },
     "execution_count": 64,
     "metadata": {
      "tags": []
     },
     "output_type": "execute_result"
    }
   ],
   "source": [
    "df.head()"
   ]
  },
  {
   "cell_type": "code",
   "execution_count": null,
   "metadata": {
    "colab": {
     "base_uri": "https://localhost:8080/",
     "height": 521
    },
    "colab_type": "code",
    "id": "Sdx7Ptfn4BLC",
    "outputId": "66e954be-19bf-44b9-ac54-c2f93c3217d3"
   },
   "outputs": [
    {
     "data": {
      "text/html": [
       "<div>\n",
       "<style scoped>\n",
       "    .dataframe tbody tr th:only-of-type {\n",
       "        vertical-align: middle;\n",
       "    }\n",
       "\n",
       "    .dataframe tbody tr th {\n",
       "        vertical-align: top;\n",
       "    }\n",
       "\n",
       "    .dataframe thead th {\n",
       "        text-align: right;\n",
       "    }\n",
       "</style>\n",
       "<table border=\"1\" class=\"dataframe\">\n",
       "  <thead>\n",
       "    <tr style=\"text-align: right;\">\n",
       "      <th></th>\n",
       "      <th>text</th>\n",
       "      <th>id</th>\n",
       "      <th>text_\\n</th>\n",
       "      <th>text_cont</th>\n",
       "      <th>text_correct</th>\n",
       "      <th>score</th>\n",
       "    </tr>\n",
       "  </thead>\n",
       "  <tbody>\n",
       "    <tr>\n",
       "      <th>1</th>\n",
       "      <td>Turaeayrerou ram anrngnnlor mnnr aalern irn oarlanlmnnr ce</td>\n",
       "      <td>Test1902.jpg</td>\n",
       "      <td>turaeayrerou ram anrngnnlor mnnr aalern irn oarlanlmnnr ce</td>\n",
       "      <td>turaeayrerou ram anrngnnlor mnnr aalern irn oarlanlmnnr ce</td>\n",
       "      <td>turaeayrerou ram anrngnnlor man adler in oarlanlmnnr ce</td>\n",
       "      <td>0.0</td>\n",
       "    </tr>\n",
       "    <tr>\n",
       "      <th>3</th>\n",
       "      <td>IE m  ess a to w nores will kn nver m La amei9 can Le zou M&gt; Anela</td>\n",
       "      <td>Test3130.jpg</td>\n",
       "      <td>ie m  ess a to w nores will kn nver m la amei9 can le zou m&gt; anela</td>\n",
       "      <td>ie m ess a to w nores will kn nver m la amei9 can le zou m&gt; anela</td>\n",
       "      <td>in m less a to w notes will in over m la amid can le you m&gt; anel</td>\n",
       "      <td>0.0</td>\n",
       "    </tr>\n",
       "    <tr>\n",
       "      <th>6</th>\n",
       "      <td>ONNE DAY WE WONT HAVE TO COME OUT OF THE CLOSET' WE'LL JUST SAY WE ARE IN LOV= AND THAT WILL ALL THAT MATT Tao mar</td>\n",
       "      <td>Test2411.jpg</td>\n",
       "      <td>onne day we wont have to come out of the closet' we'll just say we are in lov= and that will all that matt tao mar</td>\n",
       "      <td>onne day we wont have to come out of the closet' we will just say we are in lov= and that will all that matt tao mar</td>\n",
       "      <td>one day we wont have to come out of the closet' we will just say we are in love= and that will all that matt to may</td>\n",
       "      <td>0.0</td>\n",
       "    </tr>\n",
       "    <tr>\n",
       "      <th>7</th>\n",
       "      <td>Yov ULLoT HAVL rolnut tit hrD tenilve FIFD.</td>\n",
       "      <td>Test2068.jpg</td>\n",
       "      <td>yov ullot havl rolnut tit hrd tenilve fifd.</td>\n",
       "      <td>yov ullot havl rolnut tit hrd tenilve fifd.</td>\n",
       "      <td>you allot have walnut tit had senile find.</td>\n",
       "      <td>0.0</td>\n",
       "    </tr>\n",
       "    <tr>\n",
       "      <th>11</th>\n",
       "      <td></td>\n",
       "      <td>Test1634.jpg</td>\n",
       "      <td></td>\n",
       "      <td></td>\n",
       "      <td></td>\n",
       "      <td>0.0</td>\n",
       "    </tr>\n",
       "    <tr>\n",
       "      <th>...</th>\n",
       "      <td>...</td>\n",
       "      <td>...</td>\n",
       "      <td>...</td>\n",
       "      <td>...</td>\n",
       "      <td>...</td>\n",
       "      <td>...</td>\n",
       "    </tr>\n",
       "    <tr>\n",
       "      <th>234</th>\n",
       "      <td>GT</td>\n",
       "      <td>Test143.jpg</td>\n",
       "      <td>gt</td>\n",
       "      <td>gt</td>\n",
       "      <td>it</td>\n",
       "      <td>0.0</td>\n",
       "    </tr>\n",
       "    <tr>\n",
       "      <th>235</th>\n",
       "      <td></td>\n",
       "      <td>Test158.jpg</td>\n",
       "      <td></td>\n",
       "      <td></td>\n",
       "      <td></td>\n",
       "      <td>0.0</td>\n",
       "    </tr>\n",
       "    <tr>\n",
       "      <th>236</th>\n",
       "      <td></td>\n",
       "      <td>Test225.jpg</td>\n",
       "      <td></td>\n",
       "      <td></td>\n",
       "      <td></td>\n",
       "      <td>0.0</td>\n",
       "    </tr>\n",
       "    <tr>\n",
       "      <th>237</th>\n",
       "      <td></td>\n",
       "      <td>Test228.jpg</td>\n",
       "      <td></td>\n",
       "      <td></td>\n",
       "      <td></td>\n",
       "      <td>0.0</td>\n",
       "    </tr>\n",
       "    <tr>\n",
       "      <th>238</th>\n",
       "      <td></td>\n",
       "      <td>Test160.jpg</td>\n",
       "      <td></td>\n",
       "      <td></td>\n",
       "      <td></td>\n",
       "      <td>0.0</td>\n",
       "    </tr>\n",
       "  </tbody>\n",
       "</table>\n",
       "<p>126 rows × 6 columns</p>\n",
       "</div>"
      ],
      "text/plain": [
       "                                                                                                                   text  ... score\n",
       "1                                                            Turaeayrerou ram anrngnnlor mnnr aalern irn oarlanlmnnr ce  ...   0.0\n",
       "3                                                    IE m  ess a to w nores will kn nver m La amei9 can Le zou M> Anela  ...   0.0\n",
       "6    ONNE DAY WE WONT HAVE TO COME OUT OF THE CLOSET' WE'LL JUST SAY WE ARE IN LOV= AND THAT WILL ALL THAT MATT Tao mar  ...   0.0\n",
       "7                                                                           Yov ULLoT HAVL rolnut tit hrD tenilve FIFD.  ...   0.0\n",
       "11                                                                                                                       ...   0.0\n",
       "..                                                                                                                  ...  ...   ...\n",
       "234                                                                                                                  GT  ...   0.0\n",
       "235                                                                                                                      ...   0.0\n",
       "236                                                                                                                      ...   0.0\n",
       "237                                                                                                                      ...   0.0\n",
       "238                                                                                                                      ...   0.0\n",
       "\n",
       "[126 rows x 6 columns]"
      ]
     },
     "execution_count": 65,
     "metadata": {
      "tags": []
     },
     "output_type": "execute_result"
    }
   ],
   "source": [
    "df[df['score']==0]"
   ]
  },
  {
   "cell_type": "code",
   "execution_count": null,
   "metadata": {
    "colab": {
     "base_uri": "https://localhost:8080/",
     "height": 51
    },
    "colab_type": "code",
    "id": "00J5Ht724BLF",
    "outputId": "d8ffea0a-e2e9-4fe8-da35-5e58e9074465"
   },
   "outputs": [
    {
     "name": "stdout",
     "output_type": "stream",
     "text": [
      "\u001b[38;5;2m✔ Download and installation successful\u001b[0m\n",
      "You can now load the model via spacy.load('en_core_web_md')\n"
     ]
    }
   ],
   "source": [
    "# import spacy.cli\n",
    "# spacy.cli.download(\"en_core_web_md\")"
   ]
  },
  {
   "cell_type": "code",
   "execution_count": null,
   "metadata": {
    "colab": {},
    "colab_type": "code",
    "id": "nCaB0Ydn4BLI"
   },
   "outputs": [],
   "source": [
    "nlp=spacy.load('en_core_web_md')"
   ]
  },
  {
   "cell_type": "code",
   "execution_count": null,
   "metadata": {
    "colab": {},
    "colab_type": "code",
    "id": "n0U0tpk84BLK"
   },
   "outputs": [],
   "source": [
    "#Using Spacy's Lemmatization\n",
    "def lemma(text):\n",
    "    doc=nlp(text)\n",
    "    tok=[i.lemma_ for i in doc]\n",
    "    return ' '.join(tok)"
   ]
  },
  {
   "cell_type": "code",
   "execution_count": null,
   "metadata": {
    "colab": {},
    "colab_type": "code",
    "id": "zMn2GxbQ4BLM"
   },
   "outputs": [],
   "source": [
    "df['text_lemma']=df['text_correct'].apply(lemma)"
   ]
  },
  {
   "cell_type": "code",
   "execution_count": null,
   "metadata": {
    "colab": {
     "base_uri": "https://localhost:8080/",
     "height": 425
    },
    "colab_type": "code",
    "id": "_fsCFPDd4BLP",
    "outputId": "4cfa3249-5bd9-486f-f179-a40b421284a1",
    "scrolled": true
   },
   "outputs": [
    {
     "data": {
      "text/html": [
       "<div>\n",
       "<style scoped>\n",
       "    .dataframe tbody tr th:only-of-type {\n",
       "        vertical-align: middle;\n",
       "    }\n",
       "\n",
       "    .dataframe tbody tr th {\n",
       "        vertical-align: top;\n",
       "    }\n",
       "\n",
       "    .dataframe thead th {\n",
       "        text-align: right;\n",
       "    }\n",
       "</style>\n",
       "<table border=\"1\" class=\"dataframe\">\n",
       "  <thead>\n",
       "    <tr style=\"text-align: right;\">\n",
       "      <th></th>\n",
       "      <th>text</th>\n",
       "      <th>id</th>\n",
       "      <th>text_\\n</th>\n",
       "      <th>text_cont</th>\n",
       "      <th>text_correct</th>\n",
       "      <th>score</th>\n",
       "      <th>text_lemma</th>\n",
       "      <th>text_no_pun</th>\n",
       "      <th>cluster</th>\n",
       "    </tr>\n",
       "  </thead>\n",
       "  <tbody>\n",
       "    <tr>\n",
       "      <th>0</th>\n",
       "      <td>KEEP CALM AND LOVE WHO YOU WANT Tar^o kar</td>\n",
       "      <td>Test3118.jpg</td>\n",
       "      <td>keep calm and love who you want tar^o kar</td>\n",
       "      <td>keep calm and love who you want tar^o kar</td>\n",
       "      <td>keep calm and love who you want tar^o war</td>\n",
       "      <td>0.4404</td>\n",
       "      <td>keep calm and love who -PRON- want tar^o war</td>\n",
       "      <td>keep calm and love who PRON want tar o kar</td>\n",
       "      <td>2</td>\n",
       "    </tr>\n",
       "    <tr>\n",
       "      <th>1</th>\n",
       "      <td>Turaeayrerou ram anrngnnlor mnnr aalern irn oarlanlmnnr ce</td>\n",
       "      <td>Test1902.jpg</td>\n",
       "      <td>turaeayrerou ram anrngnnlor mnnr aalern irn oarlanlmnnr ce</td>\n",
       "      <td>turaeayrerou ram anrngnnlor mnnr aalern irn oarlanlmnnr ce</td>\n",
       "      <td>turaeayrerou ram anrngnnlor man adler in oarlanlmnnr ce</td>\n",
       "      <td>0.0000</td>\n",
       "      <td>turaeayrerou ram anrngnnlor man adler in oarlanlmnnr ce</td>\n",
       "      <td>turaeayrerou ram anrngnnlor mnnr aalern irn oarlanlmnnr ce</td>\n",
       "      <td>1</td>\n",
       "    </tr>\n",
       "    <tr>\n",
       "      <th>2</th>\n",
       "      <td>YOU SAY 'BE STFAJIGHT' I SAY MTASTE THE RAINBOW' To Mar</td>\n",
       "      <td>Test1992.jpg</td>\n",
       "      <td>you say 'be stfajight' i say mtaste the rainbow' to mar</td>\n",
       "      <td>you say 'be stfajight' i say mtaste the rainbow' to mar</td>\n",
       "      <td>you say 'be straight' i say taste the rainbow' to may</td>\n",
       "      <td>0.2263</td>\n",
       "      <td>-PRON- say ' be straight ' i say taste the rainbow ' to may</td>\n",
       "      <td>PRON say be stfajight i say mtaste the rainbow to mar</td>\n",
       "      <td>2</td>\n",
       "    </tr>\n",
       "    <tr>\n",
       "      <th>3</th>\n",
       "      <td>IE m  ess a to w nores will kn nver m La amei9 can Le zou M&gt; Anela</td>\n",
       "      <td>Test3130.jpg</td>\n",
       "      <td>ie m  ess a to w nores will kn nver m la amei9 can le zou m&gt; anela</td>\n",
       "      <td>ie m ess a to w nores will kn nver m la amei9 can le zou m&gt; anela</td>\n",
       "      <td>in m less a to w notes will in over m la amid can le you m&gt; anel</td>\n",
       "      <td>0.0000</td>\n",
       "      <td>in m less a to w note will in over m la amid can le you m &gt; anel</td>\n",
       "      <td>ie m ess a to w nore will kn nver m la amei can le zou m anela</td>\n",
       "      <td>0</td>\n",
       "    </tr>\n",
       "    <tr>\n",
       "      <th>4</th>\n",
       "      <td>THIMK MIRRIIGLISAS ArIpeIIGChnS IMIIS BLIN, BLTMLINAunN AN0A DnN GTBT</td>\n",
       "      <td>Test3863.jpg</td>\n",
       "      <td>thimk mirriiglisas aripeiigchns imiis blin, bltmlinaunn an0a dnn gtbt</td>\n",
       "      <td>thimk mirriiglisas aripeiigchns imiis blin, bltmlinaunn an0a dnn gtbt</td>\n",
       "      <td>think mirriiglisas aripeiigchns miss blind, bltmlinaunn anna don get</td>\n",
       "      <td>-0.5106</td>\n",
       "      <td>think mirriiglisas aripeiigchns miss blind , bltmlinaunn anna don get</td>\n",
       "      <td>thimk mirriiglisas aripeiigchns imiis blin bltmlinaunn an a dnn gtbt</td>\n",
       "      <td>1</td>\n",
       "    </tr>\n",
       "  </tbody>\n",
       "</table>\n",
       "</div>"
      ],
      "text/plain": [
       "                                                                    text  ... cluster\n",
       "0                              KEEP CALM AND LOVE WHO YOU WANT Tar^o kar  ...       2\n",
       "1             Turaeayrerou ram anrngnnlor mnnr aalern irn oarlanlmnnr ce  ...       1\n",
       "2                YOU SAY 'BE STFAJIGHT' I SAY MTASTE THE RAINBOW' To Mar  ...       2\n",
       "3     IE m  ess a to w nores will kn nver m La amei9 can Le zou M> Anela  ...       0\n",
       "4  THIMK MIRRIIGLISAS ArIpeIIGChnS IMIIS BLIN, BLTMLINAunN AN0A DnN GTBT  ...       1\n",
       "\n",
       "[5 rows x 9 columns]"
      ]
     },
     "execution_count": 97,
     "metadata": {
      "tags": []
     },
     "output_type": "execute_result"
    }
   ],
   "source": [
    "df.head()"
   ]
  },
  {
   "cell_type": "code",
   "execution_count": null,
   "metadata": {
    "colab": {},
    "colab_type": "code",
    "id": "lmeSTPY_4BLT"
   },
   "outputs": [],
   "source": [
    "def remove_non_alpha(text):\n",
    "    tok=regexp_tokenize(text,'[A-Za-z]+')\n",
    "    tokn=[]\n",
    "    for i in tok:\n",
    "        tokn.append(i.strip())\n",
    "    return ' '.join(tokn)"
   ]
  },
  {
   "cell_type": "code",
   "execution_count": null,
   "metadata": {
    "colab": {},
    "colab_type": "code",
    "id": "Z58T52o14BLV"
   },
   "outputs": [],
   "source": [
    "df['text_no_pun']=df['text_lemma'].apply(remove_non_alpha)"
   ]
  },
  {
   "cell_type": "code",
   "execution_count": null,
   "metadata": {
    "colab": {
     "base_uri": "https://localhost:8080/",
     "height": 425
    },
    "colab_type": "code",
    "id": "c1WPN3co4BLY",
    "outputId": "2ad03550-b5e2-428e-9e49-9fcadbe72c7f"
   },
   "outputs": [
    {
     "data": {
      "text/html": [
       "<div>\n",
       "<style scoped>\n",
       "    .dataframe tbody tr th:only-of-type {\n",
       "        vertical-align: middle;\n",
       "    }\n",
       "\n",
       "    .dataframe tbody tr th {\n",
       "        vertical-align: top;\n",
       "    }\n",
       "\n",
       "    .dataframe thead th {\n",
       "        text-align: right;\n",
       "    }\n",
       "</style>\n",
       "<table border=\"1\" class=\"dataframe\">\n",
       "  <thead>\n",
       "    <tr style=\"text-align: right;\">\n",
       "      <th></th>\n",
       "      <th>text</th>\n",
       "      <th>id</th>\n",
       "      <th>text_\\n</th>\n",
       "      <th>text_cont</th>\n",
       "      <th>text_correct</th>\n",
       "      <th>score</th>\n",
       "      <th>text_lemma</th>\n",
       "      <th>text_no_pun</th>\n",
       "      <th>cluster</th>\n",
       "    </tr>\n",
       "  </thead>\n",
       "  <tbody>\n",
       "    <tr>\n",
       "      <th>0</th>\n",
       "      <td>KEEP CALM AND LOVE WHO YOU WANT Tar^o kar</td>\n",
       "      <td>Test3118.jpg</td>\n",
       "      <td>keep calm and love who you want tar^o kar</td>\n",
       "      <td>keep calm and love who you want tar^o kar</td>\n",
       "      <td>keep calm and love who you want tar^o war</td>\n",
       "      <td>0.4404</td>\n",
       "      <td>keep calm and love who -PRON- want tar^o war</td>\n",
       "      <td>keep calm and love who PRON want tar o war</td>\n",
       "      <td>2</td>\n",
       "    </tr>\n",
       "    <tr>\n",
       "      <th>1</th>\n",
       "      <td>Turaeayrerou ram anrngnnlor mnnr aalern irn oarlanlmnnr ce</td>\n",
       "      <td>Test1902.jpg</td>\n",
       "      <td>turaeayrerou ram anrngnnlor mnnr aalern irn oarlanlmnnr ce</td>\n",
       "      <td>turaeayrerou ram anrngnnlor mnnr aalern irn oarlanlmnnr ce</td>\n",
       "      <td>turaeayrerou ram anrngnnlor man adler in oarlanlmnnr ce</td>\n",
       "      <td>0.0000</td>\n",
       "      <td>turaeayrerou ram anrngnnlor man adler in oarlanlmnnr ce</td>\n",
       "      <td>turaeayrerou ram anrngnnlor man adler in oarlanlmnnr ce</td>\n",
       "      <td>1</td>\n",
       "    </tr>\n",
       "    <tr>\n",
       "      <th>2</th>\n",
       "      <td>YOU SAY 'BE STFAJIGHT' I SAY MTASTE THE RAINBOW' To Mar</td>\n",
       "      <td>Test1992.jpg</td>\n",
       "      <td>you say 'be stfajight' i say mtaste the rainbow' to mar</td>\n",
       "      <td>you say 'be stfajight' i say mtaste the rainbow' to mar</td>\n",
       "      <td>you say 'be straight' i say taste the rainbow' to may</td>\n",
       "      <td>0.2263</td>\n",
       "      <td>-PRON- say ' be straight ' i say taste the rainbow ' to may</td>\n",
       "      <td>PRON say be straight i say taste the rainbow to may</td>\n",
       "      <td>2</td>\n",
       "    </tr>\n",
       "    <tr>\n",
       "      <th>3</th>\n",
       "      <td>IE m  ess a to w nores will kn nver m La amei9 can Le zou M&gt; Anela</td>\n",
       "      <td>Test3130.jpg</td>\n",
       "      <td>ie m  ess a to w nores will kn nver m la amei9 can le zou m&gt; anela</td>\n",
       "      <td>ie m ess a to w nores will kn nver m la amei9 can le zou m&gt; anela</td>\n",
       "      <td>in m less a to w notes will in over m la amid can le you m&gt; anel</td>\n",
       "      <td>0.0000</td>\n",
       "      <td>in m less a to w note will in over m la amid can le you m &gt; anel</td>\n",
       "      <td>in m less a to w note will in over m la amid can le you m anel</td>\n",
       "      <td>0</td>\n",
       "    </tr>\n",
       "    <tr>\n",
       "      <th>4</th>\n",
       "      <td>THIMK MIRRIIGLISAS ArIpeIIGChnS IMIIS BLIN, BLTMLINAunN AN0A DnN GTBT</td>\n",
       "      <td>Test3863.jpg</td>\n",
       "      <td>thimk mirriiglisas aripeiigchns imiis blin, bltmlinaunn an0a dnn gtbt</td>\n",
       "      <td>thimk mirriiglisas aripeiigchns imiis blin, bltmlinaunn an0a dnn gtbt</td>\n",
       "      <td>think mirriiglisas aripeiigchns miss blind, bltmlinaunn anna don get</td>\n",
       "      <td>-0.5106</td>\n",
       "      <td>think mirriiglisas aripeiigchns miss blind , bltmlinaunn anna don get</td>\n",
       "      <td>think mirriiglisas aripeiigchns miss blind bltmlinaunn anna don get</td>\n",
       "      <td>1</td>\n",
       "    </tr>\n",
       "  </tbody>\n",
       "</table>\n",
       "</div>"
      ],
      "text/plain": [
       "                                                                    text  ... cluster\n",
       "0                              KEEP CALM AND LOVE WHO YOU WANT Tar^o kar  ...       2\n",
       "1             Turaeayrerou ram anrngnnlor mnnr aalern irn oarlanlmnnr ce  ...       1\n",
       "2                YOU SAY 'BE STFAJIGHT' I SAY MTASTE THE RAINBOW' To Mar  ...       2\n",
       "3     IE m  ess a to w nores will kn nver m La amei9 can Le zou M> Anela  ...       0\n",
       "4  THIMK MIRRIIGLISAS ArIpeIIGChnS IMIIS BLIN, BLTMLINAunN AN0A DnN GTBT  ...       1\n",
       "\n",
       "[5 rows x 9 columns]"
      ]
     },
     "execution_count": 100,
     "metadata": {
      "tags": []
     },
     "output_type": "execute_result"
    }
   ],
   "source": [
    "df.head()"
   ]
  },
  {
   "cell_type": "code",
   "execution_count": null,
   "metadata": {
    "colab": {},
    "colab_type": "code",
    "id": "_Q2k341B4BLc"
   },
   "outputs": [],
   "source": [
    "from sklearn.feature_extraction.text import TfidfVectorizer"
   ]
  },
  {
   "cell_type": "code",
   "execution_count": null,
   "metadata": {
    "colab": {},
    "colab_type": "code",
    "id": "Pj2Rxee84BLl"
   },
   "outputs": [],
   "source": [
    "tfidf=TfidfVectorizer(stop_words='english',strip_accents='unicode',min_df=2)"
   ]
  },
  {
   "cell_type": "code",
   "execution_count": null,
   "metadata": {
    "colab": {},
    "colab_type": "code",
    "id": "p-Xuf-pQ4BLp"
   },
   "outputs": [],
   "source": [
    "tfvec=tfidf.fit_transform(df['text_no_pun'])"
   ]
  },
  {
   "cell_type": "code",
   "execution_count": null,
   "metadata": {
    "colab": {
     "base_uri": "https://localhost:8080/",
     "height": 51
    },
    "colab_type": "code",
    "id": "Am2OCd0c4BLt",
    "outputId": "f39b0d46-91cc-42e4-e602-0602d36ffdea"
   },
   "outputs": [
    {
     "data": {
      "text/plain": [
       "<239x200 sparse matrix of type '<class 'numpy.float64'>'\n",
       "\twith 707 stored elements in Compressed Sparse Row format>"
      ]
     },
     "execution_count": 104,
     "metadata": {
      "tags": []
     },
     "output_type": "execute_result"
    }
   ],
   "source": [
    "tfvec"
   ]
  },
  {
   "cell_type": "code",
   "execution_count": null,
   "metadata": {
    "colab": {},
    "colab_type": "code",
    "id": "sDcz1LM34BLw"
   },
   "outputs": [],
   "source": [
    "from scipy.sparse import csr_matrix,hstack"
   ]
  },
  {
   "cell_type": "code",
   "execution_count": null,
   "metadata": {
    "colab": {},
    "colab_type": "code",
    "id": "j2fYzvnl4BMC"
   },
   "outputs": [],
   "source": [
    "score=csr_matrix(df.score).T"
   ]
  },
  {
   "cell_type": "code",
   "execution_count": null,
   "metadata": {
    "colab": {
     "base_uri": "https://localhost:8080/",
     "height": 51
    },
    "colab_type": "code",
    "id": "hW5E8jEK4BMF",
    "outputId": "b625645d-eee5-483d-8181-86390b9eedc6"
   },
   "outputs": [
    {
     "data": {
      "text/plain": [
       "<239x1 sparse matrix of type '<class 'numpy.float64'>'\n",
       "\twith 113 stored elements in Compressed Sparse Column format>"
      ]
     },
     "execution_count": 110,
     "metadata": {
      "tags": []
     },
     "output_type": "execute_result"
    }
   ],
   "source": [
    "score"
   ]
  },
  {
   "cell_type": "code",
   "execution_count": null,
   "metadata": {
    "colab": {},
    "colab_type": "code",
    "id": "iGwAmcrh4BMJ"
   },
   "outputs": [],
   "source": [
    "vec=[]\n",
    "for i in df.text_no_pun.values:\n",
    "    vec.append(nlp(i).vector)"
   ]
  },
  {
   "cell_type": "code",
   "execution_count": null,
   "metadata": {
    "colab": {},
    "colab_type": "code",
    "id": "DHMcMe4F4BML"
   },
   "outputs": [],
   "source": [
    "vectors=csr_matrix(vec)"
   ]
  },
  {
   "cell_type": "code",
   "execution_count": null,
   "metadata": {
    "colab": {
     "base_uri": "https://localhost:8080/",
     "height": 51
    },
    "colab_type": "code",
    "id": "a03D55Ig4BMP",
    "outputId": "e046943e-798e-4413-858a-11badf57f41a"
   },
   "outputs": [
    {
     "data": {
      "text/plain": [
       "<239x300 sparse matrix of type '<class 'numpy.float32'>'\n",
       "\twith 52200 stored elements in Compressed Sparse Row format>"
      ]
     },
     "execution_count": 113,
     "metadata": {
      "tags": []
     },
     "output_type": "execute_result"
    }
   ],
   "source": [
    "vectors"
   ]
  },
  {
   "cell_type": "code",
   "execution_count": null,
   "metadata": {
    "colab": {},
    "colab_type": "code",
    "id": "56IVANPS4BMW"
   },
   "outputs": [],
   "source": [
    "#created a feature matrix\n",
    "f_matrix=hstack((score,vectors,tfvec))"
   ]
  },
  {
   "cell_type": "code",
   "execution_count": null,
   "metadata": {
    "colab": {},
    "colab_type": "code",
    "id": "3IwcPS394BMd"
   },
   "outputs": [],
   "source": [
    "from sklearn.cluster import KMeans"
   ]
  },
  {
   "cell_type": "code",
   "execution_count": null,
   "metadata": {
    "colab": {},
    "colab_type": "code",
    "id": "AxK1hER24BMg"
   },
   "outputs": [],
   "source": [
    "km = KMeans(n_clusters=3)\n",
    "km.fit(f_matrix)\n",
    "clusters = km.labels_.tolist()"
   ]
  },
  {
   "cell_type": "code",
   "execution_count": null,
   "metadata": {
    "colab": {},
    "colab_type": "code",
    "id": "s5vnsYPl4BMn"
   },
   "outputs": [],
   "source": [
    "df['cluster']=clusters"
   ]
  },
  {
   "cell_type": "code",
   "execution_count": null,
   "metadata": {
    "colab": {
     "base_uri": "https://localhost:8080/",
     "height": 425
    },
    "colab_type": "code",
    "id": "cZ2E7K154BMv",
    "outputId": "5f1282f4-a8af-489c-86c3-709ef57fb2fa"
   },
   "outputs": [
    {
     "data": {
      "text/html": [
       "<div>\n",
       "<style scoped>\n",
       "    .dataframe tbody tr th:only-of-type {\n",
       "        vertical-align: middle;\n",
       "    }\n",
       "\n",
       "    .dataframe tbody tr th {\n",
       "        vertical-align: top;\n",
       "    }\n",
       "\n",
       "    .dataframe thead th {\n",
       "        text-align: right;\n",
       "    }\n",
       "</style>\n",
       "<table border=\"1\" class=\"dataframe\">\n",
       "  <thead>\n",
       "    <tr style=\"text-align: right;\">\n",
       "      <th></th>\n",
       "      <th>text</th>\n",
       "      <th>id</th>\n",
       "      <th>text_\\n</th>\n",
       "      <th>text_cont</th>\n",
       "      <th>text_correct</th>\n",
       "      <th>score</th>\n",
       "      <th>text_lemma</th>\n",
       "      <th>text_no_pun</th>\n",
       "      <th>cluster</th>\n",
       "    </tr>\n",
       "  </thead>\n",
       "  <tbody>\n",
       "    <tr>\n",
       "      <th>0</th>\n",
       "      <td>KEEP CALM AND LOVE WHO YOU WANT Tar^o kar</td>\n",
       "      <td>Test3118.jpg</td>\n",
       "      <td>keep calm and love who you want tar^o kar</td>\n",
       "      <td>keep calm and love who you want tar^o kar</td>\n",
       "      <td>keep calm and love who you want tar^o war</td>\n",
       "      <td>0.4404</td>\n",
       "      <td>keep calm and love who -PRON- want tar^o war</td>\n",
       "      <td>keep calm and love who PRON want tar o war</td>\n",
       "      <td>2</td>\n",
       "    </tr>\n",
       "    <tr>\n",
       "      <th>1</th>\n",
       "      <td>Turaeayrerou ram anrngnnlor mnnr aalern irn oarlanlmnnr ce</td>\n",
       "      <td>Test1902.jpg</td>\n",
       "      <td>turaeayrerou ram anrngnnlor mnnr aalern irn oarlanlmnnr ce</td>\n",
       "      <td>turaeayrerou ram anrngnnlor mnnr aalern irn oarlanlmnnr ce</td>\n",
       "      <td>turaeayrerou ram anrngnnlor man adler in oarlanlmnnr ce</td>\n",
       "      <td>0.0000</td>\n",
       "      <td>turaeayrerou ram anrngnnlor man adler in oarlanlmnnr ce</td>\n",
       "      <td>turaeayrerou ram anrngnnlor man adler in oarlanlmnnr ce</td>\n",
       "      <td>1</td>\n",
       "    </tr>\n",
       "    <tr>\n",
       "      <th>2</th>\n",
       "      <td>YOU SAY 'BE STFAJIGHT' I SAY MTASTE THE RAINBOW' To Mar</td>\n",
       "      <td>Test1992.jpg</td>\n",
       "      <td>you say 'be stfajight' i say mtaste the rainbow' to mar</td>\n",
       "      <td>you say 'be stfajight' i say mtaste the rainbow' to mar</td>\n",
       "      <td>you say 'be straight' i say taste the rainbow' to may</td>\n",
       "      <td>0.2263</td>\n",
       "      <td>-PRON- say ' be straight ' i say taste the rainbow ' to may</td>\n",
       "      <td>PRON say be straight i say taste the rainbow to may</td>\n",
       "      <td>2</td>\n",
       "    </tr>\n",
       "    <tr>\n",
       "      <th>3</th>\n",
       "      <td>IE m  ess a to w nores will kn nver m La amei9 can Le zou M&gt; Anela</td>\n",
       "      <td>Test3130.jpg</td>\n",
       "      <td>ie m  ess a to w nores will kn nver m la amei9 can le zou m&gt; anela</td>\n",
       "      <td>ie m ess a to w nores will kn nver m la amei9 can le zou m&gt; anela</td>\n",
       "      <td>in m less a to w notes will in over m la amid can le you m&gt; anel</td>\n",
       "      <td>0.0000</td>\n",
       "      <td>in m less a to w note will in over m la amid can le you m &gt; anel</td>\n",
       "      <td>in m less a to w note will in over m la amid can le you m anel</td>\n",
       "      <td>1</td>\n",
       "    </tr>\n",
       "    <tr>\n",
       "      <th>4</th>\n",
       "      <td>THIMK MIRRIIGLISAS ArIpeIIGChnS IMIIS BLIN, BLTMLINAunN AN0A DnN GTBT</td>\n",
       "      <td>Test3863.jpg</td>\n",
       "      <td>thimk mirriiglisas aripeiigchns imiis blin, bltmlinaunn an0a dnn gtbt</td>\n",
       "      <td>thimk mirriiglisas aripeiigchns imiis blin, bltmlinaunn an0a dnn gtbt</td>\n",
       "      <td>think mirriiglisas aripeiigchns miss blind, bltmlinaunn anna don get</td>\n",
       "      <td>-0.5106</td>\n",
       "      <td>think mirriiglisas aripeiigchns miss blind , bltmlinaunn anna don get</td>\n",
       "      <td>think mirriiglisas aripeiigchns miss blind bltmlinaunn anna don get</td>\n",
       "      <td>1</td>\n",
       "    </tr>\n",
       "  </tbody>\n",
       "</table>\n",
       "</div>"
      ],
      "text/plain": [
       "                                                                    text  ... cluster\n",
       "0                              KEEP CALM AND LOVE WHO YOU WANT Tar^o kar  ...       2\n",
       "1             Turaeayrerou ram anrngnnlor mnnr aalern irn oarlanlmnnr ce  ...       1\n",
       "2                YOU SAY 'BE STFAJIGHT' I SAY MTASTE THE RAINBOW' To Mar  ...       2\n",
       "3     IE m  ess a to w nores will kn nver m La amei9 can Le zou M> Anela  ...       1\n",
       "4  THIMK MIRRIIGLISAS ArIpeIIGChnS IMIIS BLIN, BLTMLINAunN AN0A DnN GTBT  ...       1\n",
       "\n",
       "[5 rows x 9 columns]"
      ]
     },
     "execution_count": 118,
     "metadata": {
      "tags": []
     },
     "output_type": "execute_result"
    }
   ],
   "source": [
    "df.head()"
   ]
  },
  {
   "cell_type": "code",
   "execution_count": null,
   "metadata": {
    "colab": {
     "base_uri": "https://localhost:8080/",
     "height": 453
    },
    "colab_type": "code",
    "id": "Z4yne1K-4BMy",
    "outputId": "961b5013-39ad-4519-b286-2fc7f3ba69dd",
    "scrolled": true
   },
   "outputs": [
    {
     "data": {
      "text/html": [
       "<div>\n",
       "<style scoped>\n",
       "    .dataframe tbody tr th:only-of-type {\n",
       "        vertical-align: middle;\n",
       "    }\n",
       "\n",
       "    .dataframe tbody tr th {\n",
       "        vertical-align: top;\n",
       "    }\n",
       "\n",
       "    .dataframe thead th {\n",
       "        text-align: right;\n",
       "    }\n",
       "</style>\n",
       "<table border=\"1\" class=\"dataframe\">\n",
       "  <thead>\n",
       "    <tr style=\"text-align: right;\">\n",
       "      <th></th>\n",
       "      <th>text</th>\n",
       "      <th>id</th>\n",
       "      <th>text_\\n</th>\n",
       "      <th>text_cont</th>\n",
       "      <th>text_correct</th>\n",
       "      <th>score</th>\n",
       "      <th>text_lemma</th>\n",
       "      <th>text_no_pun</th>\n",
       "      <th>cluster</th>\n",
       "    </tr>\n",
       "  </thead>\n",
       "  <tbody>\n",
       "    <tr>\n",
       "      <th>11</th>\n",
       "      <td></td>\n",
       "      <td>Test1634.jpg</td>\n",
       "      <td></td>\n",
       "      <td></td>\n",
       "      <td></td>\n",
       "      <td>0.0</td>\n",
       "      <td></td>\n",
       "      <td></td>\n",
       "      <td>0</td>\n",
       "    </tr>\n",
       "    <tr>\n",
       "      <th>19</th>\n",
       "      <td>&amp;ozel9e o  c6~~#?9 auae Aelo</td>\n",
       "      <td>Test2280.jpg</td>\n",
       "      <td>&amp;ozel9e o  c6~~#?9 auae aelo</td>\n",
       "      <td>&amp;ozel9e o c6~~#?9 auae aelo</td>\n",
       "      <td>&amp;ozel9e o c~~#?9 alae felo</td>\n",
       "      <td>0.0</td>\n",
       "      <td>&amp; ozel9e o c~~#?9 alae felo</td>\n",
       "      <td>ozel e o c alae felo</td>\n",
       "      <td>0</td>\n",
       "    </tr>\n",
       "    <tr>\n",
       "      <th>21</th>\n",
       "      <td>Tatergreram dnallaar lrn nanllya fnn</td>\n",
       "      <td>Test3566.jpg</td>\n",
       "      <td>tatergreram dnallaar lrn nanllya fnn</td>\n",
       "      <td>tatergreram dnallaar lrn nanllya fnn</td>\n",
       "      <td>tatergreram dnallaar len natalya inn</td>\n",
       "      <td>0.0</td>\n",
       "      <td>tatergreram dnallaar len natalya inn</td>\n",
       "      <td>tatergreram dnallaar len natalya inn</td>\n",
       "      <td>0</td>\n",
       "    </tr>\n",
       "    <tr>\n",
       "      <th>31</th>\n",
       "      <td></td>\n",
       "      <td>Test1279.jpg</td>\n",
       "      <td></td>\n",
       "      <td></td>\n",
       "      <td></td>\n",
       "      <td>0.0</td>\n",
       "      <td></td>\n",
       "      <td></td>\n",
       "      <td>0</td>\n",
       "    </tr>\n",
       "    <tr>\n",
       "      <th>36</th>\n",
       "      <td></td>\n",
       "      <td>Test2049.jpg</td>\n",
       "      <td></td>\n",
       "      <td></td>\n",
       "      <td></td>\n",
       "      <td>0.0</td>\n",
       "      <td></td>\n",
       "      <td></td>\n",
       "      <td>0</td>\n",
       "    </tr>\n",
       "    <tr>\n",
       "      <th>...</th>\n",
       "      <td>...</td>\n",
       "      <td>...</td>\n",
       "      <td>...</td>\n",
       "      <td>...</td>\n",
       "      <td>...</td>\n",
       "      <td>...</td>\n",
       "      <td>...</td>\n",
       "      <td>...</td>\n",
       "      <td>...</td>\n",
       "    </tr>\n",
       "    <tr>\n",
       "      <th>233</th>\n",
       "      <td></td>\n",
       "      <td>Test105.jpg</td>\n",
       "      <td></td>\n",
       "      <td></td>\n",
       "      <td></td>\n",
       "      <td>0.0</td>\n",
       "      <td></td>\n",
       "      <td></td>\n",
       "      <td>0</td>\n",
       "    </tr>\n",
       "    <tr>\n",
       "      <th>235</th>\n",
       "      <td></td>\n",
       "      <td>Test158.jpg</td>\n",
       "      <td></td>\n",
       "      <td></td>\n",
       "      <td></td>\n",
       "      <td>0.0</td>\n",
       "      <td></td>\n",
       "      <td></td>\n",
       "      <td>0</td>\n",
       "    </tr>\n",
       "    <tr>\n",
       "      <th>236</th>\n",
       "      <td></td>\n",
       "      <td>Test225.jpg</td>\n",
       "      <td></td>\n",
       "      <td></td>\n",
       "      <td></td>\n",
       "      <td>0.0</td>\n",
       "      <td></td>\n",
       "      <td></td>\n",
       "      <td>0</td>\n",
       "    </tr>\n",
       "    <tr>\n",
       "      <th>237</th>\n",
       "      <td></td>\n",
       "      <td>Test228.jpg</td>\n",
       "      <td></td>\n",
       "      <td></td>\n",
       "      <td></td>\n",
       "      <td>0.0</td>\n",
       "      <td></td>\n",
       "      <td></td>\n",
       "      <td>0</td>\n",
       "    </tr>\n",
       "    <tr>\n",
       "      <th>238</th>\n",
       "      <td></td>\n",
       "      <td>Test160.jpg</td>\n",
       "      <td></td>\n",
       "      <td></td>\n",
       "      <td></td>\n",
       "      <td>0.0</td>\n",
       "      <td></td>\n",
       "      <td></td>\n",
       "      <td>0</td>\n",
       "    </tr>\n",
       "  </tbody>\n",
       "</table>\n",
       "<p>75 rows × 9 columns</p>\n",
       "</div>"
      ],
      "text/plain": [
       "                                     text  ... cluster\n",
       "11                                         ...       0\n",
       "19           &ozel9e o  c6~~#?9 auae Aelo  ...       0\n",
       "21   Tatergreram dnallaar lrn nanllya fnn  ...       0\n",
       "31                                         ...       0\n",
       "36                                         ...       0\n",
       "..                                    ...  ...     ...\n",
       "233                                        ...       0\n",
       "235                                        ...       0\n",
       "236                                        ...       0\n",
       "237                                        ...       0\n",
       "238                                        ...       0\n",
       "\n",
       "[75 rows x 9 columns]"
      ]
     },
     "execution_count": 119,
     "metadata": {
      "tags": []
     },
     "output_type": "execute_result"
    }
   ],
   "source": [
    "df[df['cluster']==0]"
   ]
  },
  {
   "cell_type": "code",
   "execution_count": null,
   "metadata": {
    "colab": {
     "base_uri": "https://localhost:8080/",
     "height": 1000
    },
    "colab_type": "code",
    "id": "B5KS5mA24BM4",
    "outputId": "61d58df1-665d-42a2-fb6f-b540de08416f",
    "scrolled": true
   },
   "outputs": [
    {
     "data": {
      "text/html": [
       "<div>\n",
       "<style scoped>\n",
       "    .dataframe tbody tr th:only-of-type {\n",
       "        vertical-align: middle;\n",
       "    }\n",
       "\n",
       "    .dataframe tbody tr th {\n",
       "        vertical-align: top;\n",
       "    }\n",
       "\n",
       "    .dataframe thead th {\n",
       "        text-align: right;\n",
       "    }\n",
       "</style>\n",
       "<table border=\"1\" class=\"dataframe\">\n",
       "  <thead>\n",
       "    <tr style=\"text-align: right;\">\n",
       "      <th></th>\n",
       "      <th>text</th>\n",
       "      <th>id</th>\n",
       "      <th>text_\\n</th>\n",
       "      <th>text_cont</th>\n",
       "      <th>text_correct</th>\n",
       "      <th>score</th>\n",
       "      <th>text_lemma</th>\n",
       "      <th>text_no_pun</th>\n",
       "      <th>cluster</th>\n",
       "    </tr>\n",
       "  </thead>\n",
       "  <tbody>\n",
       "    <tr>\n",
       "      <th>1</th>\n",
       "      <td>Turaeayrerou ram anrngnnlor mnnr aalern irn oarlanlmnnr ce</td>\n",
       "      <td>Test1902.jpg</td>\n",
       "      <td>turaeayrerou ram anrngnnlor mnnr aalern irn oarlanlmnnr ce</td>\n",
       "      <td>turaeayrerou ram anrngnnlor mnnr aalern irn oarlanlmnnr ce</td>\n",
       "      <td>turaeayrerou ram anrngnnlor man adler in oarlanlmnnr ce</td>\n",
       "      <td>0.0000</td>\n",
       "      <td>turaeayrerou ram anrngnnlor man adler in oarlanlmnnr ce</td>\n",
       "      <td>turaeayrerou ram anrngnnlor man adler in oarlanlmnnr ce</td>\n",
       "      <td>1</td>\n",
       "    </tr>\n",
       "    <tr>\n",
       "      <th>3</th>\n",
       "      <td>IE m  ess a to w nores will kn nver m La amei9 can Le zou M&gt; Anela</td>\n",
       "      <td>Test3130.jpg</td>\n",
       "      <td>ie m  ess a to w nores will kn nver m la amei9 can le zou m&gt; anela</td>\n",
       "      <td>ie m ess a to w nores will kn nver m la amei9 can le zou m&gt; anela</td>\n",
       "      <td>in m less a to w notes will in over m la amid can le you m&gt; anel</td>\n",
       "      <td>0.0000</td>\n",
       "      <td>in m less a to w note will in over m la amid can le you m &gt; anel</td>\n",
       "      <td>in m less a to w note will in over m la amid can le you m anel</td>\n",
       "      <td>1</td>\n",
       "    </tr>\n",
       "    <tr>\n",
       "      <th>4</th>\n",
       "      <td>THIMK MIRRIIGLISAS ArIpeIIGChnS IMIIS BLIN, BLTMLINAunN AN0A DnN GTBT</td>\n",
       "      <td>Test3863.jpg</td>\n",
       "      <td>thimk mirriiglisas aripeiigchns imiis blin, bltmlinaunn an0a dnn gtbt</td>\n",
       "      <td>thimk mirriiglisas aripeiigchns imiis blin, bltmlinaunn an0a dnn gtbt</td>\n",
       "      <td>think mirriiglisas aripeiigchns miss blind, bltmlinaunn anna don get</td>\n",
       "      <td>-0.5106</td>\n",
       "      <td>think mirriiglisas aripeiigchns miss blind , bltmlinaunn anna don get</td>\n",
       "      <td>think mirriiglisas aripeiigchns miss blind bltmlinaunn anna don get</td>\n",
       "      <td>1</td>\n",
       "    </tr>\n",
       "    <tr>\n",
       "      <th>5</th>\n",
       "      <td>orr0 ululce yggy anesAN marriages UEVE PPOPE STII PROTESTIN THIS SHIT Simely because iLis noneol mydamn businesshow others choose to live their infos</td>\n",
       "      <td>Test3625.jpg</td>\n",
       "      <td>orr0 ululce yggy anesan marriages ueve ppope stii protestin this shit simely because ilis noneol mydamn businesshow others choose to live their infos</td>\n",
       "      <td>orr0 ululce yggy anesan marriages ueve ppope stii protestin this shit simely because ilis noneol mydamn businesshow others choose to live their infos</td>\n",
       "      <td>or ululce gay anesan marriages eve pope stir protesting this shit simply because ilio none madame businesshow others choose to live their into</td>\n",
       "      <td>-0.7935</td>\n",
       "      <td>or ululce gay anesan marriages eve pope stir protest this shit simply because ilio none madame businesshow other choose to live -PRON- into</td>\n",
       "      <td>or ululce gay anesan marriages eve pope stir protest this shit simply because ilio none madame businesshow other choose to live PRON into</td>\n",
       "      <td>1</td>\n",
       "    </tr>\n",
       "    <tr>\n",
       "      <th>9</th>\n",
       "      <td>lo belolroid ls co behove Os che erurh were noe crue.</td>\n",
       "      <td>Test2616.jpg</td>\n",
       "      <td>lo belolroid ls co behove os che erurh were noe crue.</td>\n",
       "      <td>lo belolroid ls co behove os che erurh were noe crue.</td>\n",
       "      <td>lo belolroid is co behave os the truth were not true.</td>\n",
       "      <td>-0.0083</td>\n",
       "      <td>lo belolroid be co behave os the truth be not true .</td>\n",
       "      <td>lo belolroid be co behave os the truth be not true</td>\n",
       "      <td>1</td>\n",
       "    </tr>\n",
       "    <tr>\n",
       "      <th>...</th>\n",
       "      <td>...</td>\n",
       "      <td>...</td>\n",
       "      <td>...</td>\n",
       "      <td>...</td>\n",
       "      <td>...</td>\n",
       "      <td>...</td>\n",
       "      <td>...</td>\n",
       "      <td>...</td>\n",
       "      <td>...</td>\n",
       "    </tr>\n",
       "    <tr>\n",
       "      <th>218</th>\n",
       "      <td>Jason J 0 jaybs121|4| Added Me Everyone add my new Snapchat or comment names below. III be posting positive quotes every day Igbtpride loveislove Igbt trans transmatter transgender transgirl trans...</td>\n",
       "      <td>Test191.jpg</td>\n",
       "      <td>jason j 0 jaybs121|4| added me everyone add my new snapchat or comment names below. iii be posting positive quotes every day igbtpride loveislove igbt trans transmatter transgender transgirl trans...</td>\n",
       "      <td>jason j 0 jaybs121|4| added me everyone add my new snapchat or comment names below. iii be posting positive quotes every day igbtpride loveislove igbt trans transmatter transgender transgirl trans...</td>\n",
       "      <td>jason j 0 jaybs121|4| added me everyone add my new snapchat or comment names below. iii be posting positive quotes every day igbtpride loveislove it trans transmitted transgender transgirl transla...</td>\n",
       "      <td>0.8126</td>\n",
       "      <td>jason j 0 jaybs121|4| add -PRON- everyone add -PRON- new snapchat or comment name below . iii be post positive quote every day igbtpride loveislove -PRON- trans transmit transgender transgirl tran...</td>\n",
       "      <td>jason j jaybs add PRON everyone add PRON new snapchat or comment name below iii be post positive quote every day igbtpride loveislove PRON trans transmit transgender transgirl translate lesion les...</td>\n",
       "      <td>1</td>\n",
       "    </tr>\n",
       "    <tr>\n",
       "      <th>219</th>\n",
       "      <td>F HAI</td>\n",
       "      <td>Test211.jpg</td>\n",
       "      <td>f hai</td>\n",
       "      <td>f hai</td>\n",
       "      <td>f had</td>\n",
       "      <td>0.0000</td>\n",
       "      <td>f have</td>\n",
       "      <td>f have</td>\n",
       "      <td>1</td>\n",
       "    </tr>\n",
       "    <tr>\n",
       "      <th>228</th>\n",
       "      <td>learned Ihis the hard way... aoueihersyhow nileelandhck upoe siynollungand leo aluck)vu uplnstesds</td>\n",
       "      <td>Test242.jpg</td>\n",
       "      <td>learned ihis the hard way... aoueihersyhow nileelandhck upoe siynollungand leo aluck)vu uplnstesds</td>\n",
       "      <td>learned ihis the hard way... aoueihersyhow nileelandhck upoe siynollungand leo aluck)vu uplnstesds</td>\n",
       "      <td>learned his the hard way... aoueihersyhow nileelandhck upon siynollungand leo luck)ve uplnstesds</td>\n",
       "      <td>-0.1027</td>\n",
       "      <td>learn -PRON- the hard way ... aoueihersyhow nileelandhck upon siynollungand leo luck)ve uplnstesds</td>\n",
       "      <td>learn PRON the hard way aoueihersyhow nileelandhck upon siynollungand leo luck ve uplnstesds</td>\n",
       "      <td>1</td>\n",
       "    </tr>\n",
       "    <tr>\n",
       "      <th>229</th>\n",
       "      <td>TEENN PROBLEhS</td>\n",
       "      <td>Test183.jpg</td>\n",
       "      <td>teenn problehs</td>\n",
       "      <td>teenn problehs</td>\n",
       "      <td>tenn problems</td>\n",
       "      <td>-0.4019</td>\n",
       "      <td>tenn problem</td>\n",
       "      <td>tenn problem</td>\n",
       "      <td>1</td>\n",
       "    </tr>\n",
       "    <tr>\n",
       "      <th>234</th>\n",
       "      <td>GT</td>\n",
       "      <td>Test143.jpg</td>\n",
       "      <td>gt</td>\n",
       "      <td>gt</td>\n",
       "      <td>it</td>\n",
       "      <td>0.0000</td>\n",
       "      <td>-PRON-</td>\n",
       "      <td>PRON</td>\n",
       "      <td>1</td>\n",
       "    </tr>\n",
       "  </tbody>\n",
       "</table>\n",
       "<p>81 rows × 9 columns</p>\n",
       "</div>"
      ],
      "text/plain": [
       "                                                                                                                                                                                                        text  ... cluster\n",
       "1                                                                                                                                                 Turaeayrerou ram anrngnnlor mnnr aalern irn oarlanlmnnr ce  ...       1\n",
       "3                                                                                                                                         IE m  ess a to w nores will kn nver m La amei9 can Le zou M> Anela  ...       1\n",
       "4                                                                                                                                      THIMK MIRRIIGLISAS ArIpeIIGChnS IMIIS BLIN, BLTMLINAunN AN0A DnN GTBT  ...       1\n",
       "5                                                      orr0 ululce yggy anesAN marriages UEVE PPOPE STII PROTESTIN THIS SHIT Simely because iLis noneol mydamn businesshow others choose to live their infos  ...       1\n",
       "9                                                                                                                                                      lo belolroid ls co behove Os che erurh were noe crue.  ...       1\n",
       "..                                                                                                                                                                                                       ...  ...     ...\n",
       "218  Jason J 0 jaybs121|4| Added Me Everyone add my new Snapchat or comment names below. III be posting positive quotes every day Igbtpride loveislove Igbt trans transmatter transgender transgirl trans...  ...       1\n",
       "219                                                                                                                                                                                                    F HAI  ...       1\n",
       "228                                                                                                       learned Ihis the hard way... aoueihersyhow nileelandhck upoe siynollungand leo aluck)vu uplnstesds  ...       1\n",
       "229                                                                                                                                                                                           TEENN PROBLEhS  ...       1\n",
       "234                                                                                                                                                                                                       GT  ...       1\n",
       "\n",
       "[81 rows x 9 columns]"
      ]
     },
     "execution_count": 120,
     "metadata": {
      "tags": []
     },
     "output_type": "execute_result"
    }
   ],
   "source": [
    "df[df['cluster']==1]"
   ]
  },
  {
   "cell_type": "code",
   "execution_count": null,
   "metadata": {
    "colab": {
     "base_uri": "https://localhost:8080/",
     "height": 623
    },
    "colab_type": "code",
    "id": "gG5QG7Bt4BM8",
    "outputId": "0cf9118c-4587-4cc4-a94a-b2b5c87d2288",
    "scrolled": true
   },
   "outputs": [
    {
     "data": {
      "text/html": [
       "<div>\n",
       "<style scoped>\n",
       "    .dataframe tbody tr th:only-of-type {\n",
       "        vertical-align: middle;\n",
       "    }\n",
       "\n",
       "    .dataframe tbody tr th {\n",
       "        vertical-align: top;\n",
       "    }\n",
       "\n",
       "    .dataframe thead th {\n",
       "        text-align: right;\n",
       "    }\n",
       "</style>\n",
       "<table border=\"1\" class=\"dataframe\">\n",
       "  <thead>\n",
       "    <tr style=\"text-align: right;\">\n",
       "      <th></th>\n",
       "      <th>text</th>\n",
       "      <th>id</th>\n",
       "      <th>text_\\n</th>\n",
       "      <th>text_cont</th>\n",
       "      <th>text_correct</th>\n",
       "      <th>score</th>\n",
       "      <th>text_lemma</th>\n",
       "      <th>text_no_pun</th>\n",
       "      <th>cluster</th>\n",
       "    </tr>\n",
       "  </thead>\n",
       "  <tbody>\n",
       "    <tr>\n",
       "      <th>0</th>\n",
       "      <td>KEEP CALM AND LOVE WHO YOU WANT Tar^o kar</td>\n",
       "      <td>Test3118.jpg</td>\n",
       "      <td>keep calm and love who you want tar^o kar</td>\n",
       "      <td>keep calm and love who you want tar^o kar</td>\n",
       "      <td>keep calm and love who you want tar^o war</td>\n",
       "      <td>0.4404</td>\n",
       "      <td>keep calm and love who -PRON- want tar^o war</td>\n",
       "      <td>keep calm and love who PRON want tar o war</td>\n",
       "      <td>2</td>\n",
       "    </tr>\n",
       "    <tr>\n",
       "      <th>2</th>\n",
       "      <td>YOU SAY 'BE STFAJIGHT' I SAY MTASTE THE RAINBOW' To Mar</td>\n",
       "      <td>Test1992.jpg</td>\n",
       "      <td>you say 'be stfajight' i say mtaste the rainbow' to mar</td>\n",
       "      <td>you say 'be stfajight' i say mtaste the rainbow' to mar</td>\n",
       "      <td>you say 'be straight' i say taste the rainbow' to may</td>\n",
       "      <td>0.2263</td>\n",
       "      <td>-PRON- say ' be straight ' i say taste the rainbow ' to may</td>\n",
       "      <td>PRON say be straight i say taste the rainbow to may</td>\n",
       "      <td>2</td>\n",
       "    </tr>\n",
       "    <tr>\n",
       "      <th>6</th>\n",
       "      <td>ONNE DAY WE WONT HAVE TO COME OUT OF THE CLOSET' WE'LL JUST SAY WE ARE IN LOV= AND THAT WILL ALL THAT MATT Tao mar</td>\n",
       "      <td>Test2411.jpg</td>\n",
       "      <td>onne day we wont have to come out of the closet' we'll just say we are in lov= and that will all that matt tao mar</td>\n",
       "      <td>onne day we wont have to come out of the closet' we will just say we are in lov= and that will all that matt tao mar</td>\n",
       "      <td>one day we wont have to come out of the closet' we will just say we are in love= and that will all that matt to may</td>\n",
       "      <td>0.0000</td>\n",
       "      <td>one day -PRON- will not have to come out of the closet ' -PRON- will just say -PRON- be in love= and that will all that matt to may</td>\n",
       "      <td>one day PRON will not have to come out of the closet PRON will just say PRON be in love and that will all that matt to may</td>\n",
       "      <td>2</td>\n",
       "    </tr>\n",
       "    <tr>\n",
       "      <th>7</th>\n",
       "      <td>Yov ULLoT HAVL rolnut tit hrD tenilve FIFD.</td>\n",
       "      <td>Test2068.jpg</td>\n",
       "      <td>yov ullot havl rolnut tit hrd tenilve fifd.</td>\n",
       "      <td>yov ullot havl rolnut tit hrd tenilve fifd.</td>\n",
       "      <td>you allot have walnut tit had senile find.</td>\n",
       "      <td>0.0000</td>\n",
       "      <td>-PRON- allot have walnut tit have senile find .</td>\n",
       "      <td>PRON allot have walnut tit have senile find</td>\n",
       "      <td>2</td>\n",
       "    </tr>\n",
       "    <tr>\n",
       "      <th>8</th>\n",
       "      <td>PROUD ll8l</td>\n",
       "      <td>Test2977.jpg</td>\n",
       "      <td>proud ll8l</td>\n",
       "      <td>proud ll8l</td>\n",
       "      <td>proud all</td>\n",
       "      <td>0.4767</td>\n",
       "      <td>proud all</td>\n",
       "      <td>proud all</td>\n",
       "      <td>2</td>\n",
       "    </tr>\n",
       "    <tr>\n",
       "      <th>...</th>\n",
       "      <td>...</td>\n",
       "      <td>...</td>\n",
       "      <td>...</td>\n",
       "      <td>...</td>\n",
       "      <td>...</td>\n",
       "      <td>...</td>\n",
       "      <td>...</td>\n",
       "      <td>...</td>\n",
       "      <td>...</td>\n",
       "    </tr>\n",
       "    <tr>\n",
       "      <th>189</th>\n",
       "      <td>Eor cul5 jir</td>\n",
       "      <td>Test231.jpg</td>\n",
       "      <td>eor cul5 jir</td>\n",
       "      <td>eor cul5 jir</td>\n",
       "      <td>for cult air</td>\n",
       "      <td>0.0000</td>\n",
       "      <td>for cult air</td>\n",
       "      <td>for cult air</td>\n",
       "      <td>2</td>\n",
       "    </tr>\n",
       "    <tr>\n",
       "      <th>194</th>\n",
       "      <td>cRu 8</td>\n",
       "      <td>Test234.jpg</td>\n",
       "      <td>cru 8</td>\n",
       "      <td>cru 8</td>\n",
       "      <td>cry 8</td>\n",
       "      <td>-0.4767</td>\n",
       "      <td>cry 8</td>\n",
       "      <td>cry</td>\n",
       "      <td>2</td>\n",
       "    </tr>\n",
       "    <tr>\n",
       "      <th>221</th>\n",
       "      <td>Married with PRIDF</td>\n",
       "      <td>Test100.jpg</td>\n",
       "      <td>married with pridf</td>\n",
       "      <td>married with pridf</td>\n",
       "      <td>married with pride</td>\n",
       "      <td>0.3400</td>\n",
       "      <td>married with pride</td>\n",
       "      <td>married with pride</td>\n",
       "      <td>2</td>\n",
       "    </tr>\n",
       "    <tr>\n",
       "      <th>224</th>\n",
       "      <td>for LGBT</td>\n",
       "      <td>Test161.jpg</td>\n",
       "      <td>for lgbt</td>\n",
       "      <td>for lgbt</td>\n",
       "      <td>for left</td>\n",
       "      <td>0.0000</td>\n",
       "      <td>for left</td>\n",
       "      <td>for left</td>\n",
       "      <td>2</td>\n",
       "    </tr>\n",
       "    <tr>\n",
       "      <th>232</th>\n",
       "      <td>DL:STGAY QuOTES</td>\n",
       "      <td>Test129.jpg</td>\n",
       "      <td>dl:stgay quotes</td>\n",
       "      <td>dl:stgay quotes</td>\n",
       "      <td>do:stay quotes</td>\n",
       "      <td>0.0000</td>\n",
       "      <td>do : stay quote</td>\n",
       "      <td>do stay quote</td>\n",
       "      <td>2</td>\n",
       "    </tr>\n",
       "  </tbody>\n",
       "</table>\n",
       "<p>83 rows × 9 columns</p>\n",
       "</div>"
      ],
      "text/plain": [
       "                                                                                                                   text  ... cluster\n",
       "0                                                                             KEEP CALM AND LOVE WHO YOU WANT Tar^o kar  ...       2\n",
       "2                                                               YOU SAY 'BE STFAJIGHT' I SAY MTASTE THE RAINBOW' To Mar  ...       2\n",
       "6    ONNE DAY WE WONT HAVE TO COME OUT OF THE CLOSET' WE'LL JUST SAY WE ARE IN LOV= AND THAT WILL ALL THAT MATT Tao mar  ...       2\n",
       "7                                                                           Yov ULLoT HAVL rolnut tit hrD tenilve FIFD.  ...       2\n",
       "8                                                                                                            PROUD ll8l  ...       2\n",
       "..                                                                                                                  ...  ...     ...\n",
       "189                                                                                                        Eor cul5 jir  ...       2\n",
       "194                                                                                                               cRu 8  ...       2\n",
       "221                                                                                                  Married with PRIDF  ...       2\n",
       "224                                                                                                            for LGBT  ...       2\n",
       "232                                                                                                    DL:STGAY QuOTES   ...       2\n",
       "\n",
       "[83 rows x 9 columns]"
      ]
     },
     "execution_count": 121,
     "metadata": {
      "tags": []
     },
     "output_type": "execute_result"
    }
   ],
   "source": [
    "df[df['cluster']==2]"
   ]
  },
  {
   "cell_type": "code",
   "execution_count": null,
   "metadata": {
    "colab": {},
    "colab_type": "code",
    "id": "rxSDHdH44BM-"
   },
   "outputs": [],
   "source": [
    "# df['Category']=df.cluster.map({:'Random',:'Positive',:'Negative'}) ##template"
   ]
  },
  {
   "cell_type": "code",
   "execution_count": null,
   "metadata": {
    "colab": {},
    "colab_type": "code",
    "id": "PMPNnfHw4BNC"
   },
   "outputs": [],
   "source": [
    "df['Category']=df.cluster.map({0:'Random',2:'Positive',1:'Negative'})"
   ]
  },
  {
   "cell_type": "code",
   "execution_count": null,
   "metadata": {
    "colab": {
     "base_uri": "https://localhost:8080/",
     "height": 68
    },
    "colab_type": "code",
    "id": "V-i1sm1ZFEam",
    "outputId": "65cc9c9f-ccaa-444b-a64d-b81d07d8c448"
   },
   "outputs": [
    {
     "data": {
      "text/plain": [
       "Index(['text', 'id', 'text_\\n', 'text_cont', 'text_correct', 'score',\n",
       "       'text_lemma', 'text_no_pun', 'cluster', 'Category'],\n",
       "      dtype='object')"
      ]
     },
     "execution_count": 123,
     "metadata": {
      "tags": []
     },
     "output_type": "execute_result"
    }
   ],
   "source": [
    "df.columns"
   ]
  },
  {
   "cell_type": "code",
   "execution_count": null,
   "metadata": {
    "colab": {},
    "colab_type": "code",
    "id": "sllQny8Q4BNE"
   },
   "outputs": [],
   "source": [
    "df.columns=['text', 'Filename', 'text_\\n', 'text_cont', 'text_correct', 'score','text_lemma', 'text_no_pun', 'cluster', 'Score']"
   ]
  },
  {
   "cell_type": "code",
   "execution_count": null,
   "metadata": {
    "colab": {
     "base_uri": "https://localhost:8080/",
     "height": 646
    },
    "colab_type": "code",
    "id": "Ls2WoXtK4BNJ",
    "outputId": "7d2f7c1d-efc9-47eb-f644-81022f9febc2"
   },
   "outputs": [
    {
     "data": {
      "text/html": [
       "<div>\n",
       "<style scoped>\n",
       "    .dataframe tbody tr th:only-of-type {\n",
       "        vertical-align: middle;\n",
       "    }\n",
       "\n",
       "    .dataframe tbody tr th {\n",
       "        vertical-align: top;\n",
       "    }\n",
       "\n",
       "    .dataframe thead th {\n",
       "        text-align: right;\n",
       "    }\n",
       "</style>\n",
       "<table border=\"1\" class=\"dataframe\">\n",
       "  <thead>\n",
       "    <tr style=\"text-align: right;\">\n",
       "      <th></th>\n",
       "      <th>text</th>\n",
       "      <th>Filename</th>\n",
       "      <th>text_\\n</th>\n",
       "      <th>text_cont</th>\n",
       "      <th>text_correct</th>\n",
       "      <th>score</th>\n",
       "      <th>text_lemma</th>\n",
       "      <th>text_no_pun</th>\n",
       "      <th>cluster</th>\n",
       "      <th>Score</th>\n",
       "    </tr>\n",
       "  </thead>\n",
       "  <tbody>\n",
       "    <tr>\n",
       "      <th>0</th>\n",
       "      <td>KEEP CALM AND LOVE WHO YOU WANT Tar^o kar</td>\n",
       "      <td>Test3118.jpg</td>\n",
       "      <td>keep calm and love who you want tar^o kar</td>\n",
       "      <td>keep calm and love who you want tar^o kar</td>\n",
       "      <td>keep calm and love who you want tar^o war</td>\n",
       "      <td>0.4404</td>\n",
       "      <td>keep calm and love who -PRON- want tar^o war</td>\n",
       "      <td>keep calm and love who PRON want tar o war</td>\n",
       "      <td>2</td>\n",
       "      <td>Positive</td>\n",
       "    </tr>\n",
       "    <tr>\n",
       "      <th>1</th>\n",
       "      <td>Turaeayrerou ram anrngnnlor mnnr aalern irn oarlanlmnnr ce</td>\n",
       "      <td>Test1902.jpg</td>\n",
       "      <td>turaeayrerou ram anrngnnlor mnnr aalern irn oarlanlmnnr ce</td>\n",
       "      <td>turaeayrerou ram anrngnnlor mnnr aalern irn oarlanlmnnr ce</td>\n",
       "      <td>turaeayrerou ram anrngnnlor man adler in oarlanlmnnr ce</td>\n",
       "      <td>0.0000</td>\n",
       "      <td>turaeayrerou ram anrngnnlor man adler in oarlanlmnnr ce</td>\n",
       "      <td>turaeayrerou ram anrngnnlor man adler in oarlanlmnnr ce</td>\n",
       "      <td>1</td>\n",
       "      <td>Negative</td>\n",
       "    </tr>\n",
       "    <tr>\n",
       "      <th>2</th>\n",
       "      <td>YOU SAY 'BE STFAJIGHT' I SAY MTASTE THE RAINBOW' To Mar</td>\n",
       "      <td>Test1992.jpg</td>\n",
       "      <td>you say 'be stfajight' i say mtaste the rainbow' to mar</td>\n",
       "      <td>you say 'be stfajight' i say mtaste the rainbow' to mar</td>\n",
       "      <td>you say 'be straight' i say taste the rainbow' to may</td>\n",
       "      <td>0.2263</td>\n",
       "      <td>-PRON- say ' be straight ' i say taste the rainbow ' to may</td>\n",
       "      <td>PRON say be straight i say taste the rainbow to may</td>\n",
       "      <td>2</td>\n",
       "      <td>Positive</td>\n",
       "    </tr>\n",
       "    <tr>\n",
       "      <th>3</th>\n",
       "      <td>IE m  ess a to w nores will kn nver m La amei9 can Le zou M&gt; Anela</td>\n",
       "      <td>Test3130.jpg</td>\n",
       "      <td>ie m  ess a to w nores will kn nver m la amei9 can le zou m&gt; anela</td>\n",
       "      <td>ie m ess a to w nores will kn nver m la amei9 can le zou m&gt; anela</td>\n",
       "      <td>in m less a to w notes will in over m la amid can le you m&gt; anel</td>\n",
       "      <td>0.0000</td>\n",
       "      <td>in m less a to w note will in over m la amid can le you m &gt; anel</td>\n",
       "      <td>in m less a to w note will in over m la amid can le you m anel</td>\n",
       "      <td>1</td>\n",
       "      <td>Negative</td>\n",
       "    </tr>\n",
       "    <tr>\n",
       "      <th>4</th>\n",
       "      <td>THIMK MIRRIIGLISAS ArIpeIIGChnS IMIIS BLIN, BLTMLINAunN AN0A DnN GTBT</td>\n",
       "      <td>Test3863.jpg</td>\n",
       "      <td>thimk mirriiglisas aripeiigchns imiis blin, bltmlinaunn an0a dnn gtbt</td>\n",
       "      <td>thimk mirriiglisas aripeiigchns imiis blin, bltmlinaunn an0a dnn gtbt</td>\n",
       "      <td>think mirriiglisas aripeiigchns miss blind, bltmlinaunn anna don get</td>\n",
       "      <td>-0.5106</td>\n",
       "      <td>think mirriiglisas aripeiigchns miss blind , bltmlinaunn anna don get</td>\n",
       "      <td>think mirriiglisas aripeiigchns miss blind bltmlinaunn anna don get</td>\n",
       "      <td>1</td>\n",
       "      <td>Negative</td>\n",
       "    </tr>\n",
       "  </tbody>\n",
       "</table>\n",
       "</div>"
      ],
      "text/plain": [
       "                                                                    text  ...     Score\n",
       "0                              KEEP CALM AND LOVE WHO YOU WANT Tar^o kar  ...  Positive\n",
       "1             Turaeayrerou ram anrngnnlor mnnr aalern irn oarlanlmnnr ce  ...  Negative\n",
       "2                YOU SAY 'BE STFAJIGHT' I SAY MTASTE THE RAINBOW' To Mar  ...  Positive\n",
       "3     IE m  ess a to w nores will kn nver m La amei9 can Le zou M> Anela  ...  Negative\n",
       "4  THIMK MIRRIIGLISAS ArIpeIIGChnS IMIIS BLIN, BLTMLINAunN AN0A DnN GTBT  ...  Negative\n",
       "\n",
       "[5 rows x 10 columns]"
      ]
     },
     "execution_count": 125,
     "metadata": {
      "tags": []
     },
     "output_type": "execute_result"
    }
   ],
   "source": [
    "df.head()"
   ]
  },
  {
   "cell_type": "code",
   "execution_count": null,
   "metadata": {
    "colab": {},
    "colab_type": "code",
    "id": "lq19QggD4BNO"
   },
   "outputs": [],
   "source": []
  },
  {
   "cell_type": "code",
   "execution_count": null,
   "metadata": {
    "colab": {
     "base_uri": "https://localhost:8080/",
     "height": 34
    },
    "colab_type": "code",
    "id": "Jee851aN4BNR",
    "outputId": "11df5780-db77-4b79-9e16-09be35526643"
   },
   "outputs": [
    {
     "data": {
      "text/plain": [
       "(239, 10)"
      ]
     },
     "execution_count": 126,
     "metadata": {
      "tags": []
     },
     "output_type": "execute_result"
    }
   ],
   "source": [
    "df.shape"
   ]
  },
  {
   "cell_type": "code",
   "execution_count": null,
   "metadata": {
    "colab": {},
    "colab_type": "code",
    "id": "fwhDgtpi4BNX"
   },
   "outputs": [],
   "source": [
    "test=pd.read_csv('/content/drive/My Drive/Love is Love/Test.csv')"
   ]
  },
  {
   "cell_type": "code",
   "execution_count": null,
   "metadata": {
    "colab": {
     "base_uri": "https://localhost:8080/",
     "height": 204
    },
    "colab_type": "code",
    "id": "A4oJmNFW4BNa",
    "outputId": "02539f50-3e38-4f9f-b31f-95109890c804"
   },
   "outputs": [
    {
     "data": {
      "text/html": [
       "<div>\n",
       "<style scoped>\n",
       "    .dataframe tbody tr th:only-of-type {\n",
       "        vertical-align: middle;\n",
       "    }\n",
       "\n",
       "    .dataframe tbody tr th {\n",
       "        vertical-align: top;\n",
       "    }\n",
       "\n",
       "    .dataframe thead th {\n",
       "        text-align: right;\n",
       "    }\n",
       "</style>\n",
       "<table border=\"1\" class=\"dataframe\">\n",
       "  <thead>\n",
       "    <tr style=\"text-align: right;\">\n",
       "      <th></th>\n",
       "      <th>Filename</th>\n",
       "      <th>Category</th>\n",
       "    </tr>\n",
       "  </thead>\n",
       "  <tbody>\n",
       "    <tr>\n",
       "      <th>0</th>\n",
       "      <td>Test1001.jpg</td>\n",
       "      <td>NaN</td>\n",
       "    </tr>\n",
       "    <tr>\n",
       "      <th>1</th>\n",
       "      <td>Test1012.jpg</td>\n",
       "      <td>NaN</td>\n",
       "    </tr>\n",
       "    <tr>\n",
       "      <th>2</th>\n",
       "      <td>Test1022.jpg</td>\n",
       "      <td>NaN</td>\n",
       "    </tr>\n",
       "    <tr>\n",
       "      <th>3</th>\n",
       "      <td>Test1071.jpg</td>\n",
       "      <td>NaN</td>\n",
       "    </tr>\n",
       "    <tr>\n",
       "      <th>4</th>\n",
       "      <td>Test1122.jpg</td>\n",
       "      <td>NaN</td>\n",
       "    </tr>\n",
       "  </tbody>\n",
       "</table>\n",
       "</div>"
      ],
      "text/plain": [
       "       Filename  Category\n",
       "0  Test1001.jpg       NaN\n",
       "1  Test1012.jpg       NaN\n",
       "2  Test1022.jpg       NaN\n",
       "3  Test1071.jpg       NaN\n",
       "4  Test1122.jpg       NaN"
      ]
     },
     "execution_count": 130,
     "metadata": {
      "tags": []
     },
     "output_type": "execute_result"
    }
   ],
   "source": [
    "test.head()"
   ]
  },
  {
   "cell_type": "code",
   "execution_count": null,
   "metadata": {
    "colab": {
     "base_uri": "https://localhost:8080/",
     "height": 34
    },
    "colab_type": "code",
    "id": "Z3rq5YhY4BNd",
    "outputId": "d43052d2-3b10-46db-ef24-cad560d1488f"
   },
   "outputs": [
    {
     "data": {
      "text/plain": [
       "(239, 2)"
      ]
     },
     "execution_count": 131,
     "metadata": {
      "tags": []
     },
     "output_type": "execute_result"
    }
   ],
   "source": [
    "test.shape"
   ]
  },
  {
   "cell_type": "code",
   "execution_count": null,
   "metadata": {
    "colab": {},
    "colab_type": "code",
    "id": "HJDmR13D4BNi"
   },
   "outputs": [],
   "source": [
    "sub=pd.merge(test,df,on='Filename')[['Filename','Score']]"
   ]
  },
  {
   "cell_type": "code",
   "execution_count": null,
   "metadata": {
    "colab": {
     "base_uri": "https://localhost:8080/",
     "height": 419
    },
    "colab_type": "code",
    "id": "iocbMfu24BNk",
    "outputId": "53b780b1-41e1-4a6a-a0a3-0d66cdd9ae47"
   },
   "outputs": [
    {
     "data": {
      "text/html": [
       "<div>\n",
       "<style scoped>\n",
       "    .dataframe tbody tr th:only-of-type {\n",
       "        vertical-align: middle;\n",
       "    }\n",
       "\n",
       "    .dataframe tbody tr th {\n",
       "        vertical-align: top;\n",
       "    }\n",
       "\n",
       "    .dataframe thead th {\n",
       "        text-align: right;\n",
       "    }\n",
       "</style>\n",
       "<table border=\"1\" class=\"dataframe\">\n",
       "  <thead>\n",
       "    <tr style=\"text-align: right;\">\n",
       "      <th></th>\n",
       "      <th>Filename</th>\n",
       "      <th>Score</th>\n",
       "    </tr>\n",
       "  </thead>\n",
       "  <tbody>\n",
       "    <tr>\n",
       "      <th>0</th>\n",
       "      <td>Test1001.jpg</td>\n",
       "      <td>Positive</td>\n",
       "    </tr>\n",
       "    <tr>\n",
       "      <th>1</th>\n",
       "      <td>Test1012.jpg</td>\n",
       "      <td>Positive</td>\n",
       "    </tr>\n",
       "    <tr>\n",
       "      <th>2</th>\n",
       "      <td>Test1022.jpg</td>\n",
       "      <td>Positive</td>\n",
       "    </tr>\n",
       "    <tr>\n",
       "      <th>3</th>\n",
       "      <td>Test1071.jpg</td>\n",
       "      <td>Positive</td>\n",
       "    </tr>\n",
       "    <tr>\n",
       "      <th>4</th>\n",
       "      <td>Test1122.jpg</td>\n",
       "      <td>Negative</td>\n",
       "    </tr>\n",
       "    <tr>\n",
       "      <th>...</th>\n",
       "      <td>...</td>\n",
       "      <td>...</td>\n",
       "    </tr>\n",
       "    <tr>\n",
       "      <th>234</th>\n",
       "      <td>Test243.jpg</td>\n",
       "      <td>Negative</td>\n",
       "    </tr>\n",
       "    <tr>\n",
       "      <th>235</th>\n",
       "      <td>Test244.jpg</td>\n",
       "      <td>Random</td>\n",
       "    </tr>\n",
       "    <tr>\n",
       "      <th>236</th>\n",
       "      <td>Test245.jpg</td>\n",
       "      <td>Negative</td>\n",
       "    </tr>\n",
       "    <tr>\n",
       "      <th>237</th>\n",
       "      <td>Test249.jpg</td>\n",
       "      <td>Random</td>\n",
       "    </tr>\n",
       "    <tr>\n",
       "      <th>238</th>\n",
       "      <td>Test250.jpg</td>\n",
       "      <td>Negative</td>\n",
       "    </tr>\n",
       "  </tbody>\n",
       "</table>\n",
       "<p>239 rows × 2 columns</p>\n",
       "</div>"
      ],
      "text/plain": [
       "         Filename     Score\n",
       "0    Test1001.jpg  Positive\n",
       "1    Test1012.jpg  Positive\n",
       "2    Test1022.jpg  Positive\n",
       "3    Test1071.jpg  Positive\n",
       "4    Test1122.jpg  Negative\n",
       "..            ...       ...\n",
       "234   Test243.jpg  Negative\n",
       "235   Test244.jpg    Random\n",
       "236   Test245.jpg  Negative\n",
       "237   Test249.jpg    Random\n",
       "238   Test250.jpg  Negative\n",
       "\n",
       "[239 rows x 2 columns]"
      ]
     },
     "execution_count": 133,
     "metadata": {
      "tags": []
     },
     "output_type": "execute_result"
    }
   ],
   "source": [
    "sub"
   ]
  },
  {
   "cell_type": "code",
   "execution_count": null,
   "metadata": {
    "colab": {},
    "colab_type": "code",
    "id": "iDs_wDV54BNq"
   },
   "outputs": [],
   "source": [
    "sub.columns=test.columns"
   ]
  },
  {
   "cell_type": "code",
   "execution_count": null,
   "metadata": {
    "colab": {
     "base_uri": "https://localhost:8080/",
     "height": 419
    },
    "colab_type": "code",
    "id": "Qco4ch8T4BNv",
    "outputId": "41323713-3ec3-44ef-c761-a43f6d4b4b2c"
   },
   "outputs": [
    {
     "data": {
      "text/html": [
       "<div>\n",
       "<style scoped>\n",
       "    .dataframe tbody tr th:only-of-type {\n",
       "        vertical-align: middle;\n",
       "    }\n",
       "\n",
       "    .dataframe tbody tr th {\n",
       "        vertical-align: top;\n",
       "    }\n",
       "\n",
       "    .dataframe thead th {\n",
       "        text-align: right;\n",
       "    }\n",
       "</style>\n",
       "<table border=\"1\" class=\"dataframe\">\n",
       "  <thead>\n",
       "    <tr style=\"text-align: right;\">\n",
       "      <th></th>\n",
       "      <th>Filename</th>\n",
       "      <th>Category</th>\n",
       "    </tr>\n",
       "  </thead>\n",
       "  <tbody>\n",
       "    <tr>\n",
       "      <th>0</th>\n",
       "      <td>Test1001.jpg</td>\n",
       "      <td>Positive</td>\n",
       "    </tr>\n",
       "    <tr>\n",
       "      <th>1</th>\n",
       "      <td>Test1012.jpg</td>\n",
       "      <td>Positive</td>\n",
       "    </tr>\n",
       "    <tr>\n",
       "      <th>2</th>\n",
       "      <td>Test1022.jpg</td>\n",
       "      <td>Positive</td>\n",
       "    </tr>\n",
       "    <tr>\n",
       "      <th>3</th>\n",
       "      <td>Test1071.jpg</td>\n",
       "      <td>Positive</td>\n",
       "    </tr>\n",
       "    <tr>\n",
       "      <th>4</th>\n",
       "      <td>Test1122.jpg</td>\n",
       "      <td>Negative</td>\n",
       "    </tr>\n",
       "    <tr>\n",
       "      <th>...</th>\n",
       "      <td>...</td>\n",
       "      <td>...</td>\n",
       "    </tr>\n",
       "    <tr>\n",
       "      <th>234</th>\n",
       "      <td>Test243.jpg</td>\n",
       "      <td>Negative</td>\n",
       "    </tr>\n",
       "    <tr>\n",
       "      <th>235</th>\n",
       "      <td>Test244.jpg</td>\n",
       "      <td>Random</td>\n",
       "    </tr>\n",
       "    <tr>\n",
       "      <th>236</th>\n",
       "      <td>Test245.jpg</td>\n",
       "      <td>Negative</td>\n",
       "    </tr>\n",
       "    <tr>\n",
       "      <th>237</th>\n",
       "      <td>Test249.jpg</td>\n",
       "      <td>Random</td>\n",
       "    </tr>\n",
       "    <tr>\n",
       "      <th>238</th>\n",
       "      <td>Test250.jpg</td>\n",
       "      <td>Negative</td>\n",
       "    </tr>\n",
       "  </tbody>\n",
       "</table>\n",
       "<p>239 rows × 2 columns</p>\n",
       "</div>"
      ],
      "text/plain": [
       "         Filename  Category\n",
       "0    Test1001.jpg  Positive\n",
       "1    Test1012.jpg  Positive\n",
       "2    Test1022.jpg  Positive\n",
       "3    Test1071.jpg  Positive\n",
       "4    Test1122.jpg  Negative\n",
       "..            ...       ...\n",
       "234   Test243.jpg  Negative\n",
       "235   Test244.jpg    Random\n",
       "236   Test245.jpg  Negative\n",
       "237   Test249.jpg    Random\n",
       "238   Test250.jpg  Negative\n",
       "\n",
       "[239 rows x 2 columns]"
      ]
     },
     "execution_count": 135,
     "metadata": {
      "tags": []
     },
     "output_type": "execute_result"
    }
   ],
   "source": [
    "sub"
   ]
  },
  {
   "cell_type": "code",
   "execution_count": null,
   "metadata": {
    "colab": {},
    "colab_type": "code",
    "id": "W013zU4g4BOB"
   },
   "outputs": [],
   "source": [
    "sub.to_csv('/content/drive/My Drive/Love is Love/submission1.csv',index=False)"
   ]
  },
  {
   "cell_type": "markdown",
   "metadata": {
    "colab": {},
    "colab_type": "code",
    "id": "0OJi6BgN4BOE"
   },
   "source": [
    "<img src='Untitled.png' />"
   ]
  },
  {
   "cell_type": "code",
   "execution_count": null,
   "metadata": {
    "colab": {},
    "colab_type": "code",
    "id": "kB0_fN7q4BOP"
   },
   "outputs": [],
   "source": []
  },
  {
   "cell_type": "code",
   "execution_count": null,
   "metadata": {
    "colab": {},
    "colab_type": "code",
    "id": "BqTkq25A4BOi"
   },
   "outputs": [],
   "source": []
  }
 ],
 "metadata": {
  "accelerator": "GPU",
  "colab": {
   "name": "with_easyocr.ipynb",
   "provenance": []
  },
  "kernelspec": {
   "display_name": "Python 3",
   "language": "python",
   "name": "python3"
  },
  "language_info": {
   "codemirror_mode": {
    "name": "ipython",
    "version": 3
   },
   "file_extension": ".py",
   "mimetype": "text/x-python",
   "name": "python",
   "nbconvert_exporter": "python",
   "pygments_lexer": "ipython3",
   "version": "3.7.6"
  }
 },
 "nbformat": 4,
 "nbformat_minor": 1
}
